{
 "cells": [
  {
   "cell_type": "markdown",
   "metadata": {},
   "source": [
    "# Name : Aishwarya Donegiri\n",
    "# USC ID : 4640782493"
   ]
  },
  {
   "cell_type": "markdown",
   "metadata": {},
   "source": [
    "# Homework 1"
   ]
  },
  {
   "cell_type": "code",
   "execution_count": 1,
   "metadata": {},
   "outputs": [],
   "source": [
    "import pandas as pd\n",
    "import seaborn as sns\n",
    "import numpy as np"
   ]
  },
  {
   "cell_type": "markdown",
   "metadata": {},
   "source": [
    "# (a) Vetebral Column Dataset"
   ]
  },
  {
   "cell_type": "code",
   "execution_count": 2,
   "metadata": {},
   "outputs": [
    {
     "data": {
      "text/html": [
       "<div>\n",
       "<style scoped>\n",
       "    .dataframe tbody tr th:only-of-type {\n",
       "        vertical-align: middle;\n",
       "    }\n",
       "\n",
       "    .dataframe tbody tr th {\n",
       "        vertical-align: top;\n",
       "    }\n",
       "\n",
       "    .dataframe thead th {\n",
       "        text-align: right;\n",
       "    }\n",
       "</style>\n",
       "<table border=\"1\" class=\"dataframe\">\n",
       "  <thead>\n",
       "    <tr style=\"text-align: right;\">\n",
       "      <th></th>\n",
       "      <th>Pelvic Incidence</th>\n",
       "      <th>Pelvic Tilt</th>\n",
       "      <th>Lumbar Lordosis Angle</th>\n",
       "      <th>Sacral Slope</th>\n",
       "      <th>Pelvic Radius</th>\n",
       "      <th>Grade of Spondylolisthesis</th>\n",
       "      <th>Class</th>\n",
       "    </tr>\n",
       "  </thead>\n",
       "  <tbody>\n",
       "    <tr>\n",
       "      <th>0</th>\n",
       "      <td>63.03</td>\n",
       "      <td>22.55</td>\n",
       "      <td>39.61</td>\n",
       "      <td>40.48</td>\n",
       "      <td>98.67</td>\n",
       "      <td>-0.25</td>\n",
       "      <td>1</td>\n",
       "    </tr>\n",
       "    <tr>\n",
       "      <th>1</th>\n",
       "      <td>39.06</td>\n",
       "      <td>10.06</td>\n",
       "      <td>25.02</td>\n",
       "      <td>29.00</td>\n",
       "      <td>114.41</td>\n",
       "      <td>4.56</td>\n",
       "      <td>1</td>\n",
       "    </tr>\n",
       "    <tr>\n",
       "      <th>2</th>\n",
       "      <td>68.83</td>\n",
       "      <td>22.22</td>\n",
       "      <td>50.09</td>\n",
       "      <td>46.61</td>\n",
       "      <td>105.99</td>\n",
       "      <td>-3.53</td>\n",
       "      <td>1</td>\n",
       "    </tr>\n",
       "    <tr>\n",
       "      <th>3</th>\n",
       "      <td>69.30</td>\n",
       "      <td>24.65</td>\n",
       "      <td>44.31</td>\n",
       "      <td>44.64</td>\n",
       "      <td>101.87</td>\n",
       "      <td>11.21</td>\n",
       "      <td>1</td>\n",
       "    </tr>\n",
       "    <tr>\n",
       "      <th>4</th>\n",
       "      <td>49.71</td>\n",
       "      <td>9.65</td>\n",
       "      <td>28.32</td>\n",
       "      <td>40.06</td>\n",
       "      <td>108.17</td>\n",
       "      <td>7.92</td>\n",
       "      <td>1</td>\n",
       "    </tr>\n",
       "    <tr>\n",
       "      <th>...</th>\n",
       "      <td>...</td>\n",
       "      <td>...</td>\n",
       "      <td>...</td>\n",
       "      <td>...</td>\n",
       "      <td>...</td>\n",
       "      <td>...</td>\n",
       "      <td>...</td>\n",
       "    </tr>\n",
       "    <tr>\n",
       "      <th>305</th>\n",
       "      <td>47.90</td>\n",
       "      <td>13.62</td>\n",
       "      <td>36.00</td>\n",
       "      <td>34.29</td>\n",
       "      <td>117.45</td>\n",
       "      <td>-4.25</td>\n",
       "      <td>0</td>\n",
       "    </tr>\n",
       "    <tr>\n",
       "      <th>306</th>\n",
       "      <td>53.94</td>\n",
       "      <td>20.72</td>\n",
       "      <td>29.22</td>\n",
       "      <td>33.22</td>\n",
       "      <td>114.37</td>\n",
       "      <td>-0.42</td>\n",
       "      <td>0</td>\n",
       "    </tr>\n",
       "    <tr>\n",
       "      <th>307</th>\n",
       "      <td>61.45</td>\n",
       "      <td>22.69</td>\n",
       "      <td>46.17</td>\n",
       "      <td>38.75</td>\n",
       "      <td>125.67</td>\n",
       "      <td>-2.71</td>\n",
       "      <td>0</td>\n",
       "    </tr>\n",
       "    <tr>\n",
       "      <th>308</th>\n",
       "      <td>45.25</td>\n",
       "      <td>8.69</td>\n",
       "      <td>41.58</td>\n",
       "      <td>36.56</td>\n",
       "      <td>118.55</td>\n",
       "      <td>0.21</td>\n",
       "      <td>0</td>\n",
       "    </tr>\n",
       "    <tr>\n",
       "      <th>309</th>\n",
       "      <td>33.84</td>\n",
       "      <td>5.07</td>\n",
       "      <td>36.64</td>\n",
       "      <td>28.77</td>\n",
       "      <td>123.95</td>\n",
       "      <td>-0.20</td>\n",
       "      <td>0</td>\n",
       "    </tr>\n",
       "  </tbody>\n",
       "</table>\n",
       "<p>310 rows × 7 columns</p>\n",
       "</div>"
      ],
      "text/plain": [
       "     Pelvic Incidence  Pelvic Tilt  Lumbar Lordosis Angle  Sacral Slope  \\\n",
       "0               63.03        22.55                  39.61         40.48   \n",
       "1               39.06        10.06                  25.02         29.00   \n",
       "2               68.83        22.22                  50.09         46.61   \n",
       "3               69.30        24.65                  44.31         44.64   \n",
       "4               49.71         9.65                  28.32         40.06   \n",
       "..                ...          ...                    ...           ...   \n",
       "305             47.90        13.62                  36.00         34.29   \n",
       "306             53.94        20.72                  29.22         33.22   \n",
       "307             61.45        22.69                  46.17         38.75   \n",
       "308             45.25         8.69                  41.58         36.56   \n",
       "309             33.84         5.07                  36.64         28.77   \n",
       "\n",
       "     Pelvic Radius  Grade of Spondylolisthesis  Class  \n",
       "0            98.67                       -0.25      1  \n",
       "1           114.41                        4.56      1  \n",
       "2           105.99                       -3.53      1  \n",
       "3           101.87                       11.21      1  \n",
       "4           108.17                        7.92      1  \n",
       "..             ...                         ...    ...  \n",
       "305         117.45                       -4.25      0  \n",
       "306         114.37                       -0.42      0  \n",
       "307         125.67                       -2.71      0  \n",
       "308         118.55                        0.21      0  \n",
       "309         123.95                       -0.20      0  \n",
       "\n",
       "[310 rows x 7 columns]"
      ]
     },
     "execution_count": 2,
     "metadata": {},
     "output_type": "execute_result"
    }
   ],
   "source": [
    "columns=['Pelvic Incidence','Pelvic Tilt','Lumbar Lordosis Angle','Sacral Slope',\n",
    "                           'Pelvic Radius','Grade of Spondylolisthesis','Class']\n",
    "dataset=pd.read_csv(\"../data/vertebral_column_data/column_2C.dat\",sep=\" \",\n",
    "                    names=columns)\n",
    "dataset.replace(['AB','NO'],[1,0],inplace=True)\n",
    "dataset"
   ]
  },
  {
   "cell_type": "markdown",
   "metadata": {},
   "source": [
    "# (b) Pre-Processing and Exploratory data analysis"
   ]
  },
  {
   "cell_type": "markdown",
   "metadata": {},
   "source": [
    " # i. Scatterplots of the Independent variables"
   ]
  },
  {
   "cell_type": "code",
   "execution_count": 3,
   "metadata": {},
   "outputs": [
    {
     "data": {
      "text/plain": [
       "<seaborn.axisgrid.PairGrid at 0x2e723bea100>"
      ]
     },
     "execution_count": 3,
     "metadata": {},
     "output_type": "execute_result"
    },
    {
     "data": {
      "image/png": "[encoded data removed]",
      "text/plain": [
       "<Figure size 1122.38x1080 with 36 Axes>"
      ]
     },
     "metadata": {
      "needs_background": "light"
     },
     "output_type": "display_data"
    }
   ],
   "source": [
    "g=sns.PairGrid(dataset,hue='Class')\n",
    "g.map(sns.scatterplot)\n",
    "g.add_legend()"
   ]
  },
  {
   "cell_type": "markdown",
   "metadata": {},
   "source": [
    "# ii. Boxplots for each of the independent variables"
   ]
  },
  {
   "cell_type": "markdown",
   "metadata": {},
   "source": [
    "Pelvic Incidence"
   ]
  },
  {
   "cell_type": "code",
   "execution_count": 4,
   "metadata": {},
   "outputs": [
    {
     "data": {
      "text/plain": [
       "<AxesSubplot:xlabel='Class', ylabel='Pelvic Incidence'>"
      ]
     },
     "execution_count": 4,
     "metadata": {},
     "output_type": "execute_result"
    },
    {
     "data": {
      "image/png": "[encoded data removed]",
      "text/plain": [
       "<Figure size 432x288 with 1 Axes>"
      ]
     },
     "metadata": {
      "needs_background": "light"
     },
     "output_type": "display_data"
    }
   ],
   "source": [
    "sns.boxplot(data=dataset,y='Pelvic Incidence',x='Class')"
   ]
  },
  {
   "cell_type": "markdown",
   "metadata": {},
   "source": [
    "Pelvic Tilt"
   ]
  },
  {
   "cell_type": "code",
   "execution_count": 5,
   "metadata": {},
   "outputs": [
    {
     "data": {
      "text/plain": [
       "<AxesSubplot:xlabel='Class', ylabel='Pelvic Tilt'>"
      ]
     },
     "execution_count": 5,
     "metadata": {},
     "output_type": "execute_result"
    },
    {
     "data": {
      "image/png": "[encoded data removed]",
      "text/plain": [
       "<Figure size 432x288 with 1 Axes>"
      ]
     },
     "metadata": {
      "needs_background": "light"
     },
     "output_type": "display_data"
    }
   ],
   "source": [
    "sns.boxplot(data=dataset,y='Pelvic Tilt',x='Class')"
   ]
  },
  {
   "cell_type": "markdown",
   "metadata": {},
   "source": [
    "Lumbar Lordosis Angle"
   ]
  },
  {
   "cell_type": "code",
   "execution_count": 6,
   "metadata": {},
   "outputs": [
    {
     "data": {
      "text/plain": [
       "<AxesSubplot:xlabel='Class', ylabel='Lumbar Lordosis Angle'>"
      ]
     },
     "execution_count": 6,
     "metadata": {},
     "output_type": "execute_result"
    },
    {
     "data": {
      "image/png": "[encoded data removed]",
      "text/plain": [
       "<Figure size 432x288 with 1 Axes>"
      ]
     },
     "metadata": {
      "needs_background": "light"
     },
     "output_type": "display_data"
    }
   ],
   "source": [
    "sns.boxplot(data=dataset,y='Lumbar Lordosis Angle',x='Class')"
   ]
  },
  {
   "cell_type": "markdown",
   "metadata": {},
   "source": [
    "Sacral Slope"
   ]
  },
  {
   "cell_type": "code",
   "execution_count": 7,
   "metadata": {},
   "outputs": [
    {
     "data": {
      "text/plain": [
       "<AxesSubplot:xlabel='Class', ylabel='Sacral Slope'>"
      ]
     },
     "execution_count": 7,
     "metadata": {},
     "output_type": "execute_result"
    },
    {
     "data": {
      "image/png": "[encoded data removed]",
      "text/plain": [
       "<Figure size 432x288 with 1 Axes>"
      ]
     },
     "metadata": {
      "needs_background": "light"
     },
     "output_type": "display_data"
    }
   ],
   "source": [
    "sns.boxplot(data=dataset,y='Sacral Slope',x='Class')"
   ]
  },
  {
   "cell_type": "markdown",
   "metadata": {},
   "source": [
    "Pelvic Radius"
   ]
  },
  {
   "cell_type": "code",
   "execution_count": 8,
   "metadata": {},
   "outputs": [
    {
     "data": {
      "text/plain": [
       "<AxesSubplot:xlabel='Class', ylabel='Pelvic Radius'>"
      ]
     },
     "execution_count": 8,
     "metadata": {},
     "output_type": "execute_result"
    },
    {
     "data": {
      "image/png": "[encoded data removed]",
      "text/plain": [
       "<Figure size 432x288 with 1 Axes>"
      ]
     },
     "metadata": {
      "needs_background": "light"
     },
     "output_type": "display_data"
    }
   ],
   "source": [
    "sns.boxplot(data=dataset,y='Pelvic Radius',x='Class')"
   ]
  },
  {
   "cell_type": "markdown",
   "metadata": {},
   "source": [
    "Grade of Spondylolisthesis"
   ]
  },
  {
   "cell_type": "code",
   "execution_count": 9,
   "metadata": {},
   "outputs": [
    {
     "data": {
      "text/plain": [
       "<AxesSubplot:xlabel='Class', ylabel='Grade of Spondylolisthesis'>"
      ]
     },
     "execution_count": 9,
     "metadata": {},
     "output_type": "execute_result"
    },
    {
     "data": {
      "image/png": "[encoded data removed]",
      "text/plain": [
       "<Figure size 432x288 with 1 Axes>"
      ]
     },
     "metadata": {
      "needs_background": "light"
     },
     "output_type": "display_data"
    }
   ],
   "source": [
    "sns.boxplot(data=dataset,y='Grade of Spondylolisthesis',x='Class')"
   ]
  },
  {
   "cell_type": "markdown",
   "metadata": {},
   "source": [
    "# iii. Partitioning Data Set into Training and Test data"
   ]
  },
  {
   "cell_type": "markdown",
   "metadata": {},
   "source": [
    "Training Data"
   ]
  },
  {
   "cell_type": "code",
   "execution_count": 10,
   "metadata": {},
   "outputs": [
    {
     "data": {
      "text/html": [
       "<div>\n",
       "<style scoped>\n",
       "    .dataframe tbody tr th:only-of-type {\n",
       "        vertical-align: middle;\n",
       "    }\n",
       "\n",
       "    .dataframe tbody tr th {\n",
       "        vertical-align: top;\n",
       "    }\n",
       "\n",
       "    .dataframe thead th {\n",
       "        text-align: right;\n",
       "    }\n",
       "</style>\n",
       "<table border=\"1\" class=\"dataframe\">\n",
       "  <thead>\n",
       "    <tr style=\"text-align: right;\">\n",
       "      <th></th>\n",
       "      <th>Pelvic Incidence</th>\n",
       "      <th>Pelvic Tilt</th>\n",
       "      <th>Lumbar Lordosis Angle</th>\n",
       "      <th>Sacral Slope</th>\n",
       "      <th>Pelvic Radius</th>\n",
       "      <th>Grade of Spondylolisthesis</th>\n",
       "      <th>Class</th>\n",
       "    </tr>\n",
       "  </thead>\n",
       "  <tbody>\n",
       "    <tr>\n",
       "      <th>0</th>\n",
       "      <td>38.51</td>\n",
       "      <td>16.96</td>\n",
       "      <td>35.11</td>\n",
       "      <td>21.54</td>\n",
       "      <td>127.63</td>\n",
       "      <td>7.99</td>\n",
       "      <td>0</td>\n",
       "    </tr>\n",
       "    <tr>\n",
       "      <th>1</th>\n",
       "      <td>54.92</td>\n",
       "      <td>18.97</td>\n",
       "      <td>51.60</td>\n",
       "      <td>35.95</td>\n",
       "      <td>125.85</td>\n",
       "      <td>2.00</td>\n",
       "      <td>0</td>\n",
       "    </tr>\n",
       "    <tr>\n",
       "      <th>2</th>\n",
       "      <td>44.36</td>\n",
       "      <td>8.95</td>\n",
       "      <td>46.90</td>\n",
       "      <td>35.42</td>\n",
       "      <td>129.22</td>\n",
       "      <td>4.99</td>\n",
       "      <td>0</td>\n",
       "    </tr>\n",
       "    <tr>\n",
       "      <th>3</th>\n",
       "      <td>48.32</td>\n",
       "      <td>17.45</td>\n",
       "      <td>48.00</td>\n",
       "      <td>30.87</td>\n",
       "      <td>128.98</td>\n",
       "      <td>-0.91</td>\n",
       "      <td>0</td>\n",
       "    </tr>\n",
       "    <tr>\n",
       "      <th>4</th>\n",
       "      <td>45.70</td>\n",
       "      <td>10.66</td>\n",
       "      <td>42.58</td>\n",
       "      <td>35.04</td>\n",
       "      <td>130.18</td>\n",
       "      <td>-3.39</td>\n",
       "      <td>0</td>\n",
       "    </tr>\n",
       "    <tr>\n",
       "      <th>...</th>\n",
       "      <td>...</td>\n",
       "      <td>...</td>\n",
       "      <td>...</td>\n",
       "      <td>...</td>\n",
       "      <td>...</td>\n",
       "      <td>...</td>\n",
       "      <td>...</td>\n",
       "    </tr>\n",
       "    <tr>\n",
       "      <th>205</th>\n",
       "      <td>77.12</td>\n",
       "      <td>30.35</td>\n",
       "      <td>77.48</td>\n",
       "      <td>46.77</td>\n",
       "      <td>110.61</td>\n",
       "      <td>82.09</td>\n",
       "      <td>1</td>\n",
       "    </tr>\n",
       "    <tr>\n",
       "      <th>206</th>\n",
       "      <td>88.02</td>\n",
       "      <td>39.84</td>\n",
       "      <td>81.77</td>\n",
       "      <td>48.18</td>\n",
       "      <td>116.60</td>\n",
       "      <td>56.77</td>\n",
       "      <td>1</td>\n",
       "    </tr>\n",
       "    <tr>\n",
       "      <th>207</th>\n",
       "      <td>83.40</td>\n",
       "      <td>34.31</td>\n",
       "      <td>78.42</td>\n",
       "      <td>49.09</td>\n",
       "      <td>110.47</td>\n",
       "      <td>49.67</td>\n",
       "      <td>1</td>\n",
       "    </tr>\n",
       "    <tr>\n",
       "      <th>208</th>\n",
       "      <td>72.05</td>\n",
       "      <td>24.70</td>\n",
       "      <td>79.87</td>\n",
       "      <td>47.35</td>\n",
       "      <td>107.17</td>\n",
       "      <td>56.43</td>\n",
       "      <td>1</td>\n",
       "    </tr>\n",
       "    <tr>\n",
       "      <th>209</th>\n",
       "      <td>85.10</td>\n",
       "      <td>21.07</td>\n",
       "      <td>91.73</td>\n",
       "      <td>64.03</td>\n",
       "      <td>109.06</td>\n",
       "      <td>38.03</td>\n",
       "      <td>1</td>\n",
       "    </tr>\n",
       "  </tbody>\n",
       "</table>\n",
       "<p>210 rows × 7 columns</p>\n",
       "</div>"
      ],
      "text/plain": [
       "     Pelvic Incidence  Pelvic Tilt  Lumbar Lordosis Angle  Sacral Slope  \\\n",
       "0               38.51        16.96                  35.11         21.54   \n",
       "1               54.92        18.97                  51.60         35.95   \n",
       "2               44.36         8.95                  46.90         35.42   \n",
       "3               48.32        17.45                  48.00         30.87   \n",
       "4               45.70        10.66                  42.58         35.04   \n",
       "..                ...          ...                    ...           ...   \n",
       "205             77.12        30.35                  77.48         46.77   \n",
       "206             88.02        39.84                  81.77         48.18   \n",
       "207             83.40        34.31                  78.42         49.09   \n",
       "208             72.05        24.70                  79.87         47.35   \n",
       "209             85.10        21.07                  91.73         64.03   \n",
       "\n",
       "     Pelvic Radius  Grade of Spondylolisthesis  Class  \n",
       "0           127.63                        7.99      0  \n",
       "1           125.85                        2.00      0  \n",
       "2           129.22                        4.99      0  \n",
       "3           128.98                       -0.91      0  \n",
       "4           130.18                       -3.39      0  \n",
       "..             ...                         ...    ...  \n",
       "205         110.61                       82.09      1  \n",
       "206         116.60                       56.77      1  \n",
       "207         110.47                       49.67      1  \n",
       "208         107.17                       56.43      1  \n",
       "209         109.06                       38.03      1  \n",
       "\n",
       "[210 rows x 7 columns]"
      ]
     },
     "execution_count": 10,
     "metadata": {},
     "output_type": "execute_result"
    }
   ],
   "source": [
    "abnormal=np.where(dataset[\"Class\"]==1)\n",
    "normal=np.where(dataset['Class']==0)\n",
    "training_data=(pd.concat([dataset.loc[normal].reset_index(drop=True)[:70],dataset.loc[abnormal][:140]])).reset_index(drop=True)\n",
    "training_data"
   ]
  },
  {
   "cell_type": "markdown",
   "metadata": {},
   "source": [
    "Splitting Training data into X and Y"
   ]
  },
  {
   "cell_type": "code",
   "execution_count": 11,
   "metadata": {},
   "outputs": [
    {
     "data": {
      "text/html": [
       "<div>\n",
       "<style scoped>\n",
       "    .dataframe tbody tr th:only-of-type {\n",
       "        vertical-align: middle;\n",
       "    }\n",
       "\n",
       "    .dataframe tbody tr th {\n",
       "        vertical-align: top;\n",
       "    }\n",
       "\n",
       "    .dataframe thead th {\n",
       "        text-align: right;\n",
       "    }\n",
       "</style>\n",
       "<table border=\"1\" class=\"dataframe\">\n",
       "  <thead>\n",
       "    <tr style=\"text-align: right;\">\n",
       "      <th></th>\n",
       "      <th>Pelvic Incidence</th>\n",
       "      <th>Pelvic Tilt</th>\n",
       "      <th>Lumbar Lordosis Angle</th>\n",
       "      <th>Sacral Slope</th>\n",
       "      <th>Pelvic Radius</th>\n",
       "      <th>Grade of Spondylolisthesis</th>\n",
       "    </tr>\n",
       "  </thead>\n",
       "  <tbody>\n",
       "    <tr>\n",
       "      <th>0</th>\n",
       "      <td>38.51</td>\n",
       "      <td>16.96</td>\n",
       "      <td>35.11</td>\n",
       "      <td>21.54</td>\n",
       "      <td>127.63</td>\n",
       "      <td>7.99</td>\n",
       "    </tr>\n",
       "    <tr>\n",
       "      <th>1</th>\n",
       "      <td>54.92</td>\n",
       "      <td>18.97</td>\n",
       "      <td>51.60</td>\n",
       "      <td>35.95</td>\n",
       "      <td>125.85</td>\n",
       "      <td>2.00</td>\n",
       "    </tr>\n",
       "    <tr>\n",
       "      <th>2</th>\n",
       "      <td>44.36</td>\n",
       "      <td>8.95</td>\n",
       "      <td>46.90</td>\n",
       "      <td>35.42</td>\n",
       "      <td>129.22</td>\n",
       "      <td>4.99</td>\n",
       "    </tr>\n",
       "    <tr>\n",
       "      <th>3</th>\n",
       "      <td>48.32</td>\n",
       "      <td>17.45</td>\n",
       "      <td>48.00</td>\n",
       "      <td>30.87</td>\n",
       "      <td>128.98</td>\n",
       "      <td>-0.91</td>\n",
       "    </tr>\n",
       "    <tr>\n",
       "      <th>4</th>\n",
       "      <td>45.70</td>\n",
       "      <td>10.66</td>\n",
       "      <td>42.58</td>\n",
       "      <td>35.04</td>\n",
       "      <td>130.18</td>\n",
       "      <td>-3.39</td>\n",
       "    </tr>\n",
       "    <tr>\n",
       "      <th>...</th>\n",
       "      <td>...</td>\n",
       "      <td>...</td>\n",
       "      <td>...</td>\n",
       "      <td>...</td>\n",
       "      <td>...</td>\n",
       "      <td>...</td>\n",
       "    </tr>\n",
       "    <tr>\n",
       "      <th>205</th>\n",
       "      <td>77.12</td>\n",
       "      <td>30.35</td>\n",
       "      <td>77.48</td>\n",
       "      <td>46.77</td>\n",
       "      <td>110.61</td>\n",
       "      <td>82.09</td>\n",
       "    </tr>\n",
       "    <tr>\n",
       "      <th>206</th>\n",
       "      <td>88.02</td>\n",
       "      <td>39.84</td>\n",
       "      <td>81.77</td>\n",
       "      <td>48.18</td>\n",
       "      <td>116.60</td>\n",
       "      <td>56.77</td>\n",
       "    </tr>\n",
       "    <tr>\n",
       "      <th>207</th>\n",
       "      <td>83.40</td>\n",
       "      <td>34.31</td>\n",
       "      <td>78.42</td>\n",
       "      <td>49.09</td>\n",
       "      <td>110.47</td>\n",
       "      <td>49.67</td>\n",
       "    </tr>\n",
       "    <tr>\n",
       "      <th>208</th>\n",
       "      <td>72.05</td>\n",
       "      <td>24.70</td>\n",
       "      <td>79.87</td>\n",
       "      <td>47.35</td>\n",
       "      <td>107.17</td>\n",
       "      <td>56.43</td>\n",
       "    </tr>\n",
       "    <tr>\n",
       "      <th>209</th>\n",
       "      <td>85.10</td>\n",
       "      <td>21.07</td>\n",
       "      <td>91.73</td>\n",
       "      <td>64.03</td>\n",
       "      <td>109.06</td>\n",
       "      <td>38.03</td>\n",
       "    </tr>\n",
       "  </tbody>\n",
       "</table>\n",
       "<p>210 rows × 6 columns</p>\n",
       "</div>"
      ],
      "text/plain": [
       "     Pelvic Incidence  Pelvic Tilt  Lumbar Lordosis Angle  Sacral Slope  \\\n",
       "0               38.51        16.96                  35.11         21.54   \n",
       "1               54.92        18.97                  51.60         35.95   \n",
       "2               44.36         8.95                  46.90         35.42   \n",
       "3               48.32        17.45                  48.00         30.87   \n",
       "4               45.70        10.66                  42.58         35.04   \n",
       "..                ...          ...                    ...           ...   \n",
       "205             77.12        30.35                  77.48         46.77   \n",
       "206             88.02        39.84                  81.77         48.18   \n",
       "207             83.40        34.31                  78.42         49.09   \n",
       "208             72.05        24.70                  79.87         47.35   \n",
       "209             85.10        21.07                  91.73         64.03   \n",
       "\n",
       "     Pelvic Radius  Grade of Spondylolisthesis  \n",
       "0           127.63                        7.99  \n",
       "1           125.85                        2.00  \n",
       "2           129.22                        4.99  \n",
       "3           128.98                       -0.91  \n",
       "4           130.18                       -3.39  \n",
       "..             ...                         ...  \n",
       "205         110.61                       82.09  \n",
       "206         116.60                       56.77  \n",
       "207         110.47                       49.67  \n",
       "208         107.17                       56.43  \n",
       "209         109.06                       38.03  \n",
       "\n",
       "[210 rows x 6 columns]"
      ]
     },
     "execution_count": 11,
     "metadata": {},
     "output_type": "execute_result"
    }
   ],
   "source": [
    "X_train,y_train=training_data.iloc[:,:-1],training_data.iloc[:,6]\n",
    "X_train"
   ]
  },
  {
   "cell_type": "code",
   "execution_count": 12,
   "metadata": {},
   "outputs": [
    {
     "data": {
      "text/plain": [
       "0      0\n",
       "1      0\n",
       "2      0\n",
       "3      0\n",
       "4      0\n",
       "      ..\n",
       "205    1\n",
       "206    1\n",
       "207    1\n",
       "208    1\n",
       "209    1\n",
       "Name: Class, Length: 210, dtype: int64"
      ]
     },
     "execution_count": 12,
     "metadata": {},
     "output_type": "execute_result"
    }
   ],
   "source": [
    "y_train"
   ]
  },
  {
   "cell_type": "markdown",
   "metadata": {},
   "source": [
    "Test Data"
   ]
  },
  {
   "cell_type": "code",
   "execution_count": 13,
   "metadata": {},
   "outputs": [
    {
     "data": {
      "text/html": [
       "<div>\n",
       "<style scoped>\n",
       "    .dataframe tbody tr th:only-of-type {\n",
       "        vertical-align: middle;\n",
       "    }\n",
       "\n",
       "    .dataframe tbody tr th {\n",
       "        vertical-align: top;\n",
       "    }\n",
       "\n",
       "    .dataframe thead th {\n",
       "        text-align: right;\n",
       "    }\n",
       "</style>\n",
       "<table border=\"1\" class=\"dataframe\">\n",
       "  <thead>\n",
       "    <tr style=\"text-align: right;\">\n",
       "      <th></th>\n",
       "      <th>Pelvic Incidence</th>\n",
       "      <th>Pelvic Tilt</th>\n",
       "      <th>Lumbar Lordosis Angle</th>\n",
       "      <th>Sacral Slope</th>\n",
       "      <th>Pelvic Radius</th>\n",
       "      <th>Grade of Spondylolisthesis</th>\n",
       "      <th>Class</th>\n",
       "    </tr>\n",
       "  </thead>\n",
       "  <tbody>\n",
       "    <tr>\n",
       "      <th>0</th>\n",
       "      <td>50.09</td>\n",
       "      <td>13.43</td>\n",
       "      <td>34.46</td>\n",
       "      <td>36.66</td>\n",
       "      <td>119.13</td>\n",
       "      <td>3.09</td>\n",
       "      <td>0</td>\n",
       "    </tr>\n",
       "    <tr>\n",
       "      <th>1</th>\n",
       "      <td>64.26</td>\n",
       "      <td>14.50</td>\n",
       "      <td>43.90</td>\n",
       "      <td>49.76</td>\n",
       "      <td>115.39</td>\n",
       "      <td>5.95</td>\n",
       "      <td>0</td>\n",
       "    </tr>\n",
       "    <tr>\n",
       "      <th>2</th>\n",
       "      <td>53.68</td>\n",
       "      <td>13.45</td>\n",
       "      <td>41.58</td>\n",
       "      <td>40.24</td>\n",
       "      <td>113.91</td>\n",
       "      <td>2.74</td>\n",
       "      <td>0</td>\n",
       "    </tr>\n",
       "    <tr>\n",
       "      <th>3</th>\n",
       "      <td>49.00</td>\n",
       "      <td>13.11</td>\n",
       "      <td>51.87</td>\n",
       "      <td>35.88</td>\n",
       "      <td>126.40</td>\n",
       "      <td>0.54</td>\n",
       "      <td>0</td>\n",
       "    </tr>\n",
       "    <tr>\n",
       "      <th>4</th>\n",
       "      <td>59.17</td>\n",
       "      <td>14.56</td>\n",
       "      <td>43.20</td>\n",
       "      <td>44.60</td>\n",
       "      <td>121.04</td>\n",
       "      <td>2.83</td>\n",
       "      <td>0</td>\n",
       "    </tr>\n",
       "    <tr>\n",
       "      <th>...</th>\n",
       "      <td>...</td>\n",
       "      <td>...</td>\n",
       "      <td>...</td>\n",
       "      <td>...</td>\n",
       "      <td>...</td>\n",
       "      <td>...</td>\n",
       "      <td>...</td>\n",
       "    </tr>\n",
       "    <tr>\n",
       "      <th>95</th>\n",
       "      <td>80.11</td>\n",
       "      <td>33.94</td>\n",
       "      <td>85.10</td>\n",
       "      <td>46.17</td>\n",
       "      <td>125.59</td>\n",
       "      <td>100.29</td>\n",
       "      <td>1</td>\n",
       "    </tr>\n",
       "    <tr>\n",
       "      <th>96</th>\n",
       "      <td>95.48</td>\n",
       "      <td>46.55</td>\n",
       "      <td>59.00</td>\n",
       "      <td>48.93</td>\n",
       "      <td>96.68</td>\n",
       "      <td>77.28</td>\n",
       "      <td>1</td>\n",
       "    </tr>\n",
       "    <tr>\n",
       "      <th>97</th>\n",
       "      <td>74.09</td>\n",
       "      <td>18.82</td>\n",
       "      <td>76.03</td>\n",
       "      <td>55.27</td>\n",
       "      <td>128.41</td>\n",
       "      <td>73.39</td>\n",
       "      <td>1</td>\n",
       "    </tr>\n",
       "    <tr>\n",
       "      <th>98</th>\n",
       "      <td>87.68</td>\n",
       "      <td>20.37</td>\n",
       "      <td>93.82</td>\n",
       "      <td>67.31</td>\n",
       "      <td>120.94</td>\n",
       "      <td>76.73</td>\n",
       "      <td>1</td>\n",
       "    </tr>\n",
       "    <tr>\n",
       "      <th>99</th>\n",
       "      <td>48.26</td>\n",
       "      <td>16.42</td>\n",
       "      <td>36.33</td>\n",
       "      <td>31.84</td>\n",
       "      <td>94.88</td>\n",
       "      <td>28.34</td>\n",
       "      <td>1</td>\n",
       "    </tr>\n",
       "  </tbody>\n",
       "</table>\n",
       "<p>100 rows × 7 columns</p>\n",
       "</div>"
      ],
      "text/plain": [
       "    Pelvic Incidence  Pelvic Tilt  Lumbar Lordosis Angle  Sacral Slope  \\\n",
       "0              50.09        13.43                  34.46         36.66   \n",
       "1              64.26        14.50                  43.90         49.76   \n",
       "2              53.68        13.45                  41.58         40.24   \n",
       "3              49.00        13.11                  51.87         35.88   \n",
       "4              59.17        14.56                  43.20         44.60   \n",
       "..               ...          ...                    ...           ...   \n",
       "95             80.11        33.94                  85.10         46.17   \n",
       "96             95.48        46.55                  59.00         48.93   \n",
       "97             74.09        18.82                  76.03         55.27   \n",
       "98             87.68        20.37                  93.82         67.31   \n",
       "99             48.26        16.42                  36.33         31.84   \n",
       "\n",
       "    Pelvic Radius  Grade of Spondylolisthesis  Class  \n",
       "0          119.13                        3.09      0  \n",
       "1          115.39                        5.95      0  \n",
       "2          113.91                        2.74      0  \n",
       "3          126.40                        0.54      0  \n",
       "4          121.04                        2.83      0  \n",
       "..            ...                         ...    ...  \n",
       "95         125.59                      100.29      1  \n",
       "96          96.68                       77.28      1  \n",
       "97         128.41                       73.39      1  \n",
       "98         120.94                       76.73      1  \n",
       "99          94.88                       28.34      1  \n",
       "\n",
       "[100 rows x 7 columns]"
      ]
     },
     "execution_count": 13,
     "metadata": {},
     "output_type": "execute_result"
    }
   ],
   "source": [
    "test_data=pd.concat([dataset.loc[normal].reset_index(drop=True)[70:],dataset.loc[abnormal][140:]]).reset_index(drop=True)\n",
    "test_data"
   ]
  },
  {
   "cell_type": "markdown",
   "metadata": {},
   "source": [
    "Splitting Test data into X and y"
   ]
  },
  {
   "cell_type": "code",
   "execution_count": 14,
   "metadata": {},
   "outputs": [
    {
     "data": {
      "text/html": [
       "<div>\n",
       "<style scoped>\n",
       "    .dataframe tbody tr th:only-of-type {\n",
       "        vertical-align: middle;\n",
       "    }\n",
       "\n",
       "    .dataframe tbody tr th {\n",
       "        vertical-align: top;\n",
       "    }\n",
       "\n",
       "    .dataframe thead th {\n",
       "        text-align: right;\n",
       "    }\n",
       "</style>\n",
       "<table border=\"1\" class=\"dataframe\">\n",
       "  <thead>\n",
       "    <tr style=\"text-align: right;\">\n",
       "      <th></th>\n",
       "      <th>Pelvic Incidence</th>\n",
       "      <th>Pelvic Tilt</th>\n",
       "      <th>Lumbar Lordosis Angle</th>\n",
       "      <th>Sacral Slope</th>\n",
       "      <th>Pelvic Radius</th>\n",
       "      <th>Grade of Spondylolisthesis</th>\n",
       "    </tr>\n",
       "  </thead>\n",
       "  <tbody>\n",
       "    <tr>\n",
       "      <th>0</th>\n",
       "      <td>50.09</td>\n",
       "      <td>13.43</td>\n",
       "      <td>34.46</td>\n",
       "      <td>36.66</td>\n",
       "      <td>119.13</td>\n",
       "      <td>3.09</td>\n",
       "    </tr>\n",
       "    <tr>\n",
       "      <th>1</th>\n",
       "      <td>64.26</td>\n",
       "      <td>14.50</td>\n",
       "      <td>43.90</td>\n",
       "      <td>49.76</td>\n",
       "      <td>115.39</td>\n",
       "      <td>5.95</td>\n",
       "    </tr>\n",
       "    <tr>\n",
       "      <th>2</th>\n",
       "      <td>53.68</td>\n",
       "      <td>13.45</td>\n",
       "      <td>41.58</td>\n",
       "      <td>40.24</td>\n",
       "      <td>113.91</td>\n",
       "      <td>2.74</td>\n",
       "    </tr>\n",
       "    <tr>\n",
       "      <th>3</th>\n",
       "      <td>49.00</td>\n",
       "      <td>13.11</td>\n",
       "      <td>51.87</td>\n",
       "      <td>35.88</td>\n",
       "      <td>126.40</td>\n",
       "      <td>0.54</td>\n",
       "    </tr>\n",
       "    <tr>\n",
       "      <th>4</th>\n",
       "      <td>59.17</td>\n",
       "      <td>14.56</td>\n",
       "      <td>43.20</td>\n",
       "      <td>44.60</td>\n",
       "      <td>121.04</td>\n",
       "      <td>2.83</td>\n",
       "    </tr>\n",
       "    <tr>\n",
       "      <th>...</th>\n",
       "      <td>...</td>\n",
       "      <td>...</td>\n",
       "      <td>...</td>\n",
       "      <td>...</td>\n",
       "      <td>...</td>\n",
       "      <td>...</td>\n",
       "    </tr>\n",
       "    <tr>\n",
       "      <th>95</th>\n",
       "      <td>80.11</td>\n",
       "      <td>33.94</td>\n",
       "      <td>85.10</td>\n",
       "      <td>46.17</td>\n",
       "      <td>125.59</td>\n",
       "      <td>100.29</td>\n",
       "    </tr>\n",
       "    <tr>\n",
       "      <th>96</th>\n",
       "      <td>95.48</td>\n",
       "      <td>46.55</td>\n",
       "      <td>59.00</td>\n",
       "      <td>48.93</td>\n",
       "      <td>96.68</td>\n",
       "      <td>77.28</td>\n",
       "    </tr>\n",
       "    <tr>\n",
       "      <th>97</th>\n",
       "      <td>74.09</td>\n",
       "      <td>18.82</td>\n",
       "      <td>76.03</td>\n",
       "      <td>55.27</td>\n",
       "      <td>128.41</td>\n",
       "      <td>73.39</td>\n",
       "    </tr>\n",
       "    <tr>\n",
       "      <th>98</th>\n",
       "      <td>87.68</td>\n",
       "      <td>20.37</td>\n",
       "      <td>93.82</td>\n",
       "      <td>67.31</td>\n",
       "      <td>120.94</td>\n",
       "      <td>76.73</td>\n",
       "    </tr>\n",
       "    <tr>\n",
       "      <th>99</th>\n",
       "      <td>48.26</td>\n",
       "      <td>16.42</td>\n",
       "      <td>36.33</td>\n",
       "      <td>31.84</td>\n",
       "      <td>94.88</td>\n",
       "      <td>28.34</td>\n",
       "    </tr>\n",
       "  </tbody>\n",
       "</table>\n",
       "<p>100 rows × 6 columns</p>\n",
       "</div>"
      ],
      "text/plain": [
       "    Pelvic Incidence  Pelvic Tilt  Lumbar Lordosis Angle  Sacral Slope  \\\n",
       "0              50.09        13.43                  34.46         36.66   \n",
       "1              64.26        14.50                  43.90         49.76   \n",
       "2              53.68        13.45                  41.58         40.24   \n",
       "3              49.00        13.11                  51.87         35.88   \n",
       "4              59.17        14.56                  43.20         44.60   \n",
       "..               ...          ...                    ...           ...   \n",
       "95             80.11        33.94                  85.10         46.17   \n",
       "96             95.48        46.55                  59.00         48.93   \n",
       "97             74.09        18.82                  76.03         55.27   \n",
       "98             87.68        20.37                  93.82         67.31   \n",
       "99             48.26        16.42                  36.33         31.84   \n",
       "\n",
       "    Pelvic Radius  Grade of Spondylolisthesis  \n",
       "0          119.13                        3.09  \n",
       "1          115.39                        5.95  \n",
       "2          113.91                        2.74  \n",
       "3          126.40                        0.54  \n",
       "4          121.04                        2.83  \n",
       "..            ...                         ...  \n",
       "95         125.59                      100.29  \n",
       "96          96.68                       77.28  \n",
       "97         128.41                       73.39  \n",
       "98         120.94                       76.73  \n",
       "99          94.88                       28.34  \n",
       "\n",
       "[100 rows x 6 columns]"
      ]
     },
     "execution_count": 14,
     "metadata": {},
     "output_type": "execute_result"
    }
   ],
   "source": [
    "X_test,y_test=test_data.iloc[:,:-1],test_data.iloc[:,6]\n",
    "X_test"
   ]
  },
  {
   "cell_type": "code",
   "execution_count": 15,
   "metadata": {},
   "outputs": [
    {
     "data": {
      "text/plain": [
       "0     0\n",
       "1     0\n",
       "2     0\n",
       "3     0\n",
       "4     0\n",
       "     ..\n",
       "95    1\n",
       "96    1\n",
       "97    1\n",
       "98    1\n",
       "99    1\n",
       "Name: Class, Length: 100, dtype: int64"
      ]
     },
     "execution_count": 15,
     "metadata": {},
     "output_type": "execute_result"
    }
   ],
   "source": [
    "y_test"
   ]
  },
  {
   "cell_type": "markdown",
   "metadata": {},
   "source": [
    "# (c) Classification using KNN on Vertebral Column Data Set"
   ]
  },
  {
   "cell_type": "markdown",
   "metadata": {},
   "source": [
    "# i. KNN with k=5 and distance metric as Euclidian"
   ]
  },
  {
   "cell_type": "code",
   "execution_count": 16,
   "metadata": {},
   "outputs": [
    {
     "data": {
      "text/plain": [
       "KNeighborsClassifier()"
      ]
     },
     "execution_count": 16,
     "metadata": {},
     "output_type": "execute_result"
    }
   ],
   "source": [
    "from sklearn.neighbors import KNeighborsClassifier\n",
    "knn_euclidian=KNeighborsClassifier()\n",
    "knn_euclidian.fit(X_train,y_train)"
   ]
  },
  {
   "cell_type": "markdown",
   "metadata": {},
   "source": [
    "# ii. Finding the most suitable k"
   ]
  },
  {
   "cell_type": "markdown",
   "metadata": {},
   "source": [
    "Predicting y values"
   ]
  },
  {
   "cell_type": "code",
   "execution_count": 17,
   "metadata": {},
   "outputs": [
    {
     "data": {
      "text/plain": [
       "array([1, 0, 0, 0, 0, 0, 0, 1, 0, 0, 1, 1, 0, 0, 0, 0, 1, 1, 0, 1, 0, 0,\n",
       "       1, 0, 0, 1, 1, 0, 0, 0, 1, 1, 1, 1, 1, 1, 1, 1, 1, 1, 1, 1, 1, 1,\n",
       "       1, 1, 1, 1, 1, 1, 1, 1, 1, 1, 1, 1, 1, 1, 1, 1, 1, 1, 1, 1, 1, 1,\n",
       "       1, 1, 1, 1, 1, 1, 1, 1, 1, 1, 1, 1, 1, 1, 1, 1, 1, 1, 1, 1, 1, 1,\n",
       "       1, 1, 1, 1, 1, 1, 1, 1, 1, 1, 1, 1], dtype=int64)"
      ]
     },
     "execution_count": 17,
     "metadata": {},
     "output_type": "execute_result"
    }
   ],
   "source": [
    "y_predicted=knn_euclidian.predict(X_test)\n",
    "y_predicted"
   ]
  },
  {
   "cell_type": "markdown",
   "metadata": {},
   "source": [
    "Testing the KNN model"
   ]
  },
  {
   "cell_type": "code",
   "execution_count": 18,
   "metadata": {},
   "outputs": [
    {
     "name": "stdout",
     "output_type": "stream",
     "text": [
      "Accuracy :  0.9\n",
      "Error :  0.09999999999999998\n"
     ]
    }
   ],
   "source": [
    "print (\"Accuracy : \",knn_euclidian.score(X_test,y_test))\n",
    "error=1-(knn_euclidian.score(X_test,y_test))\n",
    "print (\"Error : \",error )"
   ]
  },
  {
   "cell_type": "markdown",
   "metadata": {},
   "source": [
    "Calculating the most suitable value of k from the test error rate for each k"
   ]
  },
  {
   "cell_type": "code",
   "execution_count": 19,
   "metadata": {},
   "outputs": [
    {
     "name": "stdout",
     "output_type": "stream",
     "text": [
      "Training Error :\n",
      "\n",
      "[0.3333333333333333, 0.3333333333333333, 0.3333333333333333, 0.3333333333333333, 0.3333333333333333, 0.3333333333333333, 0.3333333333333333, 0.3333333333333333, 0.3333333333333333, 0.3333333333333333, 0.3333333333333333, 0.3333333333333333, 0.3333333333333333, 0.3333333333333333, 0.3333333333333333, 0.3333333333333333, 0.3333333333333333, 0.3333333333333333, 0.3333333333333333, 0.3333333333333333, 0.3333333333333333, 0.3333333333333333, 0.3333333333333333, 0.3333333333333333, 0.30952380952380953, 0.2904761904761905, 0.24761904761904763, 0.24761904761904763, 0.21428571428571427, 0.21428571428571427, 0.18571428571428572, 0.20952380952380953, 0.16666666666666666, 0.17142857142857143, 0.1523809523809524, 0.15714285714285714, 0.1761904761904762, 0.1523809523809524, 0.15714285714285714, 0.16666666666666666, 0.1761904761904762, 0.1761904761904762, 0.18095238095238095, 0.18571428571428572, 0.1761904761904762, 0.16666666666666666, 0.1619047619047619, 0.16666666666666666, 0.1619047619047619, 0.1619047619047619, 0.16666666666666666, 0.17142857142857143, 0.1619047619047619, 0.1619047619047619, 0.1523809523809524, 0.1619047619047619, 0.16666666666666666, 0.1523809523809524, 0.1523809523809524, 0.14761904761904762, 0.1380952380952381, 0.1380952380952381, 0.1523809523809524, 0.14761904761904762, 0.15714285714285714, 0.14285714285714285, 0.13333333333333333, 0.14285714285714285, 0.14285714285714285, 0.0]\n",
      "\n",
      "Test Error :\n",
      "\n",
      "[0.3, 0.3, 0.3, 0.3, 0.3, 0.3, 0.3, 0.3, 0.3, 0.3, 0.3, 0.3, 0.3, 0.3, 0.3, 0.3, 0.3, 0.3, 0.3, 0.3, 0.3, 0.3, 0.3, 0.3, 0.28, 0.27, 0.24, 0.23, 0.2, 0.22, 0.15, 0.2, 0.16, 0.16, 0.14, 0.18, 0.14, 0.16, 0.15, 0.16, 0.17, 0.16, 0.14, 0.13, 0.12, 0.13, 0.12, 0.13, 0.12, 0.12, 0.12, 0.12, 0.11, 0.11, 0.12, 0.12, 0.1, 0.11, 0.11, 0.11, 0.1, 0.11, 0.1, 0.11, 0.09, 0.12, 0.1, 0.12, 0.06, 0.13]\n"
     ]
    }
   ],
   "source": [
    "train_error=[]\n",
    "test_error=[]\n",
    "k_range=range(208,0,-3)\n",
    "for k in k_range:\n",
    "    classifier_euclidian=KNeighborsClassifier(n_neighbors=k)\n",
    "    classifier_euclidian.fit(X_train,y_train)\n",
    "    y_predict_train=classifier_euclidian.predict(X_train)\n",
    "    y_predict_test=classifier_euclidian.predict(X_test)\n",
    "    train_error.append(np.mean(y_predict_train != y_train))\n",
    "    test_error.append(np.mean(y_predict_test != y_test))\n",
    "#     train_error.append(1-(classifier_euclidian.score(X_train,y_train)))\n",
    "#     test_error.append(1-(classifier_euclidian.score(X_test,y_test)))\n",
    "print (\"Training Error :\\n\")\n",
    "print (train_error)\n",
    "print (\"\\nTest Error :\\n\")\n",
    "print ((test_error))"
   ]
  },
  {
   "cell_type": "markdown",
   "metadata": {},
   "source": [
    "Plot of train and test errors vs k"
   ]
  },
  {
   "cell_type": "code",
   "execution_count": 20,
   "metadata": {},
   "outputs": [
    {
     "data": {
      "text/plain": [
       "<matplotlib.legend.Legend at 0x2e726dca910>"
      ]
     },
     "execution_count": 20,
     "metadata": {},
     "output_type": "execute_result"
    },
    {
     "data": {
      "image/png": "[encoded data removed]",
      "text/plain": [
       "<Figure size 432x288 with 1 Axes>"
      ]
     },
     "metadata": {
      "needs_background": "light"
     },
     "output_type": "display_data"
    }
   ],
   "source": [
    "import matplotlib.pyplot as plt\n",
    "plt.plot(k_range,train_error,label='Train Error')\n",
    "plt.plot(k_range,test_error,label='Test Error')\n",
    "plt.xlabel('Value of K for KNN')\n",
    "plt.ylabel('Error')\n",
    "# plt.xlim(-1)\n",
    "plt.axis([210,-2,0,0.4])\n",
    "plt.legend()"
   ]
  },
  {
   "cell_type": "markdown",
   "metadata": {},
   "source": [
    "Finding optimal k i.e., k* when test error and train error are given"
   ]
  },
  {
   "cell_type": "code",
   "execution_count": 21,
   "metadata": {},
   "outputs": [
    {
     "name": "stdout",
     "output_type": "stream",
     "text": [
      "k* :  4\n"
     ]
    }
   ],
   "source": [
    "k_star=pd.Series(k_range).loc[np.argmin(test_error)]\n",
    "print (\"k* : \",k_star)\n"
   ]
  },
  {
   "cell_type": "markdown",
   "metadata": {},
   "source": [
    "Finding the confusion matrix, true positive rate, true negative rate, precision and f1 score."
   ]
  },
  {
   "cell_type": "markdown",
   "metadata": {},
   "source": [
    "Confusion Matrix"
   ]
  },
  {
   "cell_type": "code",
   "execution_count": 22,
   "metadata": {},
   "outputs": [
    {
     "name": "stdout",
     "output_type": "stream",
     "text": [
      "Error :  0.06\n",
      "Confusion Matrix :\n"
     ]
    },
    {
     "data": {
      "text/plain": [
       "array([[25,  5],\n",
       "       [ 1, 69]], dtype=int64)"
      ]
     },
     "execution_count": 22,
     "metadata": {},
     "output_type": "execute_result"
    }
   ],
   "source": [
    "knn_classifier=KNeighborsClassifier(n_neighbors=k_star)\n",
    "knn_classifier.fit(X_train,y_train)\n",
    "# print (knn_k_star_classifier.score(X_test,y_test))\n",
    "y_predict=knn_classifier.predict(X_test)\n",
    "error_euclidian=np.mean(y_predict != y_test)\n",
    "print (\"Error : \",np.mean(y_predict != y_test))\n",
    "\n",
    "from sklearn.metrics import confusion_matrix\n",
    "cm=confusion_matrix(y_test,y_predict)\n",
    "print (\"Confusion Matrix :\")\n",
    "cm"
   ]
  },
  {
   "cell_type": "markdown",
   "metadata": {},
   "source": [
    "Precision, Accuracy F1 score (Column 'precision' and 'f1-score')"
   ]
  },
  {
   "cell_type": "code",
   "execution_count": 23,
   "metadata": {},
   "outputs": [
    {
     "name": "stdout",
     "output_type": "stream",
     "text": [
      "              precision    recall  f1-score   support\n",
      "\n",
      "           0       0.96      0.83      0.89        30\n",
      "           1       0.93      0.99      0.96        70\n",
      "\n",
      "    accuracy                           0.94       100\n",
      "   macro avg       0.95      0.91      0.93       100\n",
      "weighted avg       0.94      0.94      0.94       100\n",
      "\n"
     ]
    }
   ],
   "source": [
    "from sklearn.metrics import classification_report\n",
    "print(classification_report(y_test,y_predict))"
   ]
  },
  {
   "cell_type": "markdown",
   "metadata": {},
   "source": [
    "True Positive Rate is the Recall for Class 1, can also be calculated by True Positive/(True Positive + False Negative)"
   ]
  },
  {
   "cell_type": "code",
   "execution_count": 24,
   "metadata": {},
   "outputs": [
    {
     "name": "stdout",
     "output_type": "stream",
     "text": [
      "True Positive rate :  0.9857142857142858\n"
     ]
    }
   ],
   "source": [
    "TN, FP, FN, TP=cm[0][0], cm[0][1], cm[1][0], cm[1][1]\n",
    "true_positive_rate=TP/(TP+FN)\n",
    "print (\"True Positive rate : \",true_positive_rate)"
   ]
  },
  {
   "cell_type": "markdown",
   "metadata": {},
   "source": [
    "True Negative Rate is the recall for Class 0, can also be calculated by True Negative/(True Negative + False Positive)"
   ]
  },
  {
   "cell_type": "code",
   "execution_count": 25,
   "metadata": {},
   "outputs": [
    {
     "name": "stdout",
     "output_type": "stream",
     "text": [
      "True Negative rate :  0.8333333333333334\n"
     ]
    }
   ],
   "source": [
    "true_negative_rate=TN/(TN+FP)\n",
    "print (\"True Negative rate : \",true_negative_rate)"
   ]
  },
  {
   "cell_type": "markdown",
   "metadata": {},
   "source": [
    "# iii. Finding k* for varying values of N"
   ]
  },
  {
   "cell_type": "code",
   "execution_count": 26,
   "metadata": {},
   "outputs": [
    {
     "name": "stdout",
     "output_type": "stream",
     "text": [
      "Minimum Error :  0.08\n",
      "k* : 6\n",
      "N : 210\n"
     ]
    },
    {
     "data": {
      "text/plain": [
       "Text(0, 0.5, 'Best Test Error Rate')"
      ]
     },
     "execution_count": 26,
     "metadata": {},
     "output_type": "execute_result"
    },
    {
     "data": {
      "image/png": "[encoded data removed]",
      "text/plain": [
       "<Figure size 432x288 with 1 Axes>"
      ]
     },
     "metadata": {
      "needs_background": "light"
     },
     "output_type": "display_data"
    }
   ],
   "source": [
    "N_range=range(10,211,10)\n",
    "error=[]\n",
    "k_stars=[]\n",
    "for N in N_range:\n",
    "#     print (N)\n",
    "    training_data_N=(pd.concat([dataset.loc[normal].reset_index(drop=True)[:N//3],\n",
    "                             dataset.loc[abnormal][:N-(N//3)]])).reset_index(drop=True)\n",
    "#     print (training_data_N)\n",
    "    X_train_N,y_train_N=training_data_N.iloc[:,:-1],training_data_N.iloc[:,6]\n",
    "\n",
    "    test_error=[]\n",
    "    k_range=range(1,N,5)\n",
    "    for k in k_range:\n",
    "        knn_classifier=KNeighborsClassifier(n_neighbors=k)\n",
    "        knn_classifier.fit(X_train_N,y_train_N)\n",
    "        y_prediction_N=knn_classifier.predict(X_test)\n",
    "        test_error.append(np.mean(y_prediction_N != y_test))\n",
    "    k_star=pd.Series(k_range).loc[np.argmin(test_error)]\n",
    "    k_stars.append(k_star)\n",
    "    knn=KNeighborsClassifier(n_neighbors=k_star)\n",
    "    knn.fit(X_train_N,y_train_N)\n",
    "    y_predict=knn.predict(X_test)\n",
    "#     print(y_predict)\n",
    "    error.append(np.mean(y_predict != y_test))\n",
    "\n",
    "error_N=min(error)\n",
    "k_star=pd.Series(k_stars).loc[np.argmin(error)]\n",
    "N=pd.Series(N_range).loc[np.argmin(error)]\n",
    "print (\"Minimum Error : \", error_N)\n",
    "print (\"k* :\", k_star)\n",
    "print (\"N :\", N)\n",
    "plt.plot(pd.Series(N_range),error) \n",
    "plt.xlabel('N')\n",
    "plt.ylabel('Best Test Error Rate')\n",
    "# print (error)"
   ]
  },
  {
   "cell_type": "markdown",
   "metadata": {},
   "source": [
    "# (d) Using other distance metrics"
   ]
  },
  {
   "cell_type": "markdown",
   "metadata": {},
   "source": [
    "# i. A. Performing KNN using Manhattan distance"
   ]
  },
  {
   "cell_type": "code",
   "execution_count": 27,
   "metadata": {},
   "outputs": [
    {
     "name": "stdout",
     "output_type": "stream",
     "text": [
      "k* : 6\n"
     ]
    }
   ],
   "source": [
    "k_range=range(1,200,5)\n",
    "error=[]\n",
    "for k in k_range:\n",
    "    knn_manhattan=KNeighborsClassifier(n_neighbors=k,p=1)\n",
    "    knn_manhattan.fit(X_train,y_train)\n",
    "    y_predict=knn_manhattan.predict(X_test)\n",
    "    error.append(np.mean(y_predict != y_test))\n",
    "#     error.append(knn_manhattanttan.score(X_test,y_test))\n",
    "k_star=pd.Series(k_range).loc[np.argmin(error)]\n",
    "print (\"k* :\",k_star)\n",
    "# print (error)"
   ]
  },
  {
   "cell_type": "markdown",
   "metadata": {},
   "source": [
    "K values with their corresponding errors"
   ]
  },
  {
   "cell_type": "code",
   "execution_count": 28,
   "metadata": {},
   "outputs": [
    {
     "data": {
      "text/html": [
       "<div>\n",
       "<style scoped>\n",
       "    .dataframe tbody tr th:only-of-type {\n",
       "        vertical-align: middle;\n",
       "    }\n",
       "\n",
       "    .dataframe tbody tr th {\n",
       "        vertical-align: top;\n",
       "    }\n",
       "\n",
       "    .dataframe thead th {\n",
       "        text-align: right;\n",
       "    }\n",
       "</style>\n",
       "<table border=\"1\" class=\"dataframe\">\n",
       "  <thead>\n",
       "    <tr style=\"text-align: right;\">\n",
       "      <th></th>\n",
       "      <th>k</th>\n",
       "      <th>Error</th>\n",
       "    </tr>\n",
       "  </thead>\n",
       "  <tbody>\n",
       "    <tr>\n",
       "      <th>0</th>\n",
       "      <td>1</td>\n",
       "      <td>0.12</td>\n",
       "    </tr>\n",
       "    <tr>\n",
       "      <th>1</th>\n",
       "      <td>6</td>\n",
       "      <td>0.11</td>\n",
       "    </tr>\n",
       "    <tr>\n",
       "      <th>2</th>\n",
       "      <td>11</td>\n",
       "      <td>0.11</td>\n",
       "    </tr>\n",
       "    <tr>\n",
       "      <th>3</th>\n",
       "      <td>16</td>\n",
       "      <td>0.12</td>\n",
       "    </tr>\n",
       "    <tr>\n",
       "      <th>4</th>\n",
       "      <td>21</td>\n",
       "      <td>0.12</td>\n",
       "    </tr>\n",
       "    <tr>\n",
       "      <th>5</th>\n",
       "      <td>26</td>\n",
       "      <td>0.11</td>\n",
       "    </tr>\n",
       "    <tr>\n",
       "      <th>6</th>\n",
       "      <td>31</td>\n",
       "      <td>0.12</td>\n",
       "    </tr>\n",
       "    <tr>\n",
       "      <th>7</th>\n",
       "      <td>36</td>\n",
       "      <td>0.13</td>\n",
       "    </tr>\n",
       "    <tr>\n",
       "      <th>8</th>\n",
       "      <td>41</td>\n",
       "      <td>0.13</td>\n",
       "    </tr>\n",
       "    <tr>\n",
       "      <th>9</th>\n",
       "      <td>46</td>\n",
       "      <td>0.13</td>\n",
       "    </tr>\n",
       "    <tr>\n",
       "      <th>10</th>\n",
       "      <td>51</td>\n",
       "      <td>0.14</td>\n",
       "    </tr>\n",
       "    <tr>\n",
       "      <th>11</th>\n",
       "      <td>56</td>\n",
       "      <td>0.13</td>\n",
       "    </tr>\n",
       "    <tr>\n",
       "      <th>12</th>\n",
       "      <td>61</td>\n",
       "      <td>0.15</td>\n",
       "    </tr>\n",
       "    <tr>\n",
       "      <th>13</th>\n",
       "      <td>66</td>\n",
       "      <td>0.15</td>\n",
       "    </tr>\n",
       "    <tr>\n",
       "      <th>14</th>\n",
       "      <td>71</td>\n",
       "      <td>0.14</td>\n",
       "    </tr>\n",
       "    <tr>\n",
       "      <th>15</th>\n",
       "      <td>76</td>\n",
       "      <td>0.14</td>\n",
       "    </tr>\n",
       "    <tr>\n",
       "      <th>16</th>\n",
       "      <td>81</td>\n",
       "      <td>0.16</td>\n",
       "    </tr>\n",
       "    <tr>\n",
       "      <th>17</th>\n",
       "      <td>86</td>\n",
       "      <td>0.15</td>\n",
       "    </tr>\n",
       "    <tr>\n",
       "      <th>18</th>\n",
       "      <td>91</td>\n",
       "      <td>0.20</td>\n",
       "    </tr>\n",
       "    <tr>\n",
       "      <th>19</th>\n",
       "      <td>96</td>\n",
       "      <td>0.20</td>\n",
       "    </tr>\n",
       "    <tr>\n",
       "      <th>20</th>\n",
       "      <td>101</td>\n",
       "      <td>0.22</td>\n",
       "    </tr>\n",
       "    <tr>\n",
       "      <th>21</th>\n",
       "      <td>106</td>\n",
       "      <td>0.21</td>\n",
       "    </tr>\n",
       "    <tr>\n",
       "      <th>22</th>\n",
       "      <td>111</td>\n",
       "      <td>0.23</td>\n",
       "    </tr>\n",
       "    <tr>\n",
       "      <th>23</th>\n",
       "      <td>116</td>\n",
       "      <td>0.21</td>\n",
       "    </tr>\n",
       "    <tr>\n",
       "      <th>24</th>\n",
       "      <td>121</td>\n",
       "      <td>0.22</td>\n",
       "    </tr>\n",
       "    <tr>\n",
       "      <th>25</th>\n",
       "      <td>126</td>\n",
       "      <td>0.24</td>\n",
       "    </tr>\n",
       "    <tr>\n",
       "      <th>26</th>\n",
       "      <td>131</td>\n",
       "      <td>0.28</td>\n",
       "    </tr>\n",
       "    <tr>\n",
       "      <th>27</th>\n",
       "      <td>136</td>\n",
       "      <td>0.28</td>\n",
       "    </tr>\n",
       "    <tr>\n",
       "      <th>28</th>\n",
       "      <td>141</td>\n",
       "      <td>0.30</td>\n",
       "    </tr>\n",
       "    <tr>\n",
       "      <th>29</th>\n",
       "      <td>146</td>\n",
       "      <td>0.30</td>\n",
       "    </tr>\n",
       "    <tr>\n",
       "      <th>30</th>\n",
       "      <td>151</td>\n",
       "      <td>0.30</td>\n",
       "    </tr>\n",
       "    <tr>\n",
       "      <th>31</th>\n",
       "      <td>156</td>\n",
       "      <td>0.30</td>\n",
       "    </tr>\n",
       "    <tr>\n",
       "      <th>32</th>\n",
       "      <td>161</td>\n",
       "      <td>0.30</td>\n",
       "    </tr>\n",
       "    <tr>\n",
       "      <th>33</th>\n",
       "      <td>166</td>\n",
       "      <td>0.30</td>\n",
       "    </tr>\n",
       "    <tr>\n",
       "      <th>34</th>\n",
       "      <td>171</td>\n",
       "      <td>0.30</td>\n",
       "    </tr>\n",
       "    <tr>\n",
       "      <th>35</th>\n",
       "      <td>176</td>\n",
       "      <td>0.30</td>\n",
       "    </tr>\n",
       "    <tr>\n",
       "      <th>36</th>\n",
       "      <td>181</td>\n",
       "      <td>0.30</td>\n",
       "    </tr>\n",
       "    <tr>\n",
       "      <th>37</th>\n",
       "      <td>186</td>\n",
       "      <td>0.30</td>\n",
       "    </tr>\n",
       "    <tr>\n",
       "      <th>38</th>\n",
       "      <td>191</td>\n",
       "      <td>0.30</td>\n",
       "    </tr>\n",
       "    <tr>\n",
       "      <th>39</th>\n",
       "      <td>196</td>\n",
       "      <td>0.30</td>\n",
       "    </tr>\n",
       "  </tbody>\n",
       "</table>\n",
       "</div>"
      ],
      "text/plain": [
       "      k  Error\n",
       "0     1   0.12\n",
       "1     6   0.11\n",
       "2    11   0.11\n",
       "3    16   0.12\n",
       "4    21   0.12\n",
       "5    26   0.11\n",
       "6    31   0.12\n",
       "7    36   0.13\n",
       "8    41   0.13\n",
       "9    46   0.13\n",
       "10   51   0.14\n",
       "11   56   0.13\n",
       "12   61   0.15\n",
       "13   66   0.15\n",
       "14   71   0.14\n",
       "15   76   0.14\n",
       "16   81   0.16\n",
       "17   86   0.15\n",
       "18   91   0.20\n",
       "19   96   0.20\n",
       "20  101   0.22\n",
       "21  106   0.21\n",
       "22  111   0.23\n",
       "23  116   0.21\n",
       "24  121   0.22\n",
       "25  126   0.24\n",
       "26  131   0.28\n",
       "27  136   0.28\n",
       "28  141   0.30\n",
       "29  146   0.30\n",
       "30  151   0.30\n",
       "31  156   0.30\n",
       "32  161   0.30\n",
       "33  166   0.30\n",
       "34  171   0.30\n",
       "35  176   0.30\n",
       "36  181   0.30\n",
       "37  186   0.30\n",
       "38  191   0.30\n",
       "39  196   0.30"
      ]
     },
     "execution_count": 28,
     "metadata": {},
     "output_type": "execute_result"
    }
   ],
   "source": [
    "d={\"k\":pd.Series(k_range),\"Error\":error}\n",
    "pd.DataFrame(data=d)"
   ]
  },
  {
   "cell_type": "markdown",
   "metadata": {},
   "source": [
    "k* can be equal to 6,11 or 26"
   ]
  },
  {
   "cell_type": "markdown",
   "metadata": {},
   "source": [
    "Plot of Error vs k"
   ]
  },
  {
   "cell_type": "code",
   "execution_count": 29,
   "metadata": {},
   "outputs": [
    {
     "data": {
      "text/plain": [
       "Text(0, 0.5, 'Error')"
      ]
     },
     "execution_count": 29,
     "metadata": {},
     "output_type": "execute_result"
    },
    {
     "data": {
      "image/png": "[encoded data removed]",
      "text/plain": [
       "<Figure size 432x288 with 1 Axes>"
      ]
     },
     "metadata": {
      "needs_background": "light"
     },
     "output_type": "display_data"
    }
   ],
   "source": [
    "plt.plot(pd.Series(k_range),error)\n",
    "plt.xlabel(\"k\")\n",
    "plt.ylabel(\"Error\")"
   ]
  },
  {
   "cell_type": "markdown",
   "metadata": {},
   "source": [
    "Confusion Matrix"
   ]
  },
  {
   "cell_type": "code",
   "execution_count": 30,
   "metadata": {},
   "outputs": [
    {
     "name": "stdout",
     "output_type": "stream",
     "text": [
      "Error :  0.11\n"
     ]
    },
    {
     "data": {
      "text/plain": [
       "array([[22,  8],\n",
       "       [ 3, 67]], dtype=int64)"
      ]
     },
     "execution_count": 30,
     "metadata": {},
     "output_type": "execute_result"
    }
   ],
   "source": [
    "knn_manhattan=KNeighborsClassifier(n_neighbors=k_star,p=1)\n",
    "knn_manhattan.fit(X_train,y_train)\n",
    "y_predict=knn_manhattan.predict(X_test)\n",
    "error_manhattan=np.mean(y_predict != y_test)\n",
    "print (\"Error : \", error_manhattan)\n",
    "confusion_matrix(y_test,y_predict)"
   ]
  },
  {
   "cell_type": "code",
   "execution_count": 31,
   "metadata": {},
   "outputs": [
    {
     "name": "stdout",
     "output_type": "stream",
     "text": [
      "              precision    recall  f1-score   support\n",
      "\n",
      "           0       0.88      0.73      0.80        30\n",
      "           1       0.89      0.96      0.92        70\n",
      "\n",
      "    accuracy                           0.89       100\n",
      "   macro avg       0.89      0.85      0.86       100\n",
      "weighted avg       0.89      0.89      0.89       100\n",
      "\n"
     ]
    }
   ],
   "source": [
    "print(classification_report(y_test,y_predict))"
   ]
  },
  {
   "cell_type": "markdown",
   "metadata": {},
   "source": [
    "# i. B. Performing KNN with Minkowski Distance and log10(p) values"
   ]
  },
  {
   "cell_type": "markdown",
   "metadata": {},
   "source": [
    "Calculating the Best log10(p) for k*-manhattan varying p to get the lowest error"
   ]
  },
  {
   "cell_type": "code",
   "execution_count": 32,
   "metadata": {},
   "outputs": [
    {
     "name": "stdout",
     "output_type": "stream",
     "text": [
      "Error:  0.06\n",
      "Best log10(p) value : 0.6\n"
     ]
    }
   ],
   "source": [
    "log_p_values=[]\n",
    "p_values=[]\n",
    "error_log=[]\n",
    "log_p=0.1\n",
    "while (log_p<=1):\n",
    "    log_p_values.append(log_p)\n",
    "    p_value=10**log_p\n",
    "    p_values.append(p_value)\n",
    "    knn_log=KNeighborsClassifier(n_neighbors=k_star,p=p_value)\n",
    "    knn_log.fit(X_train,y_train)\n",
    "    y_predict=knn_log.predict(X_test)\n",
    "    error_log.append(np.mean(y_predict != y_test))\n",
    "    log_p+=0.1\n",
    "    log_p=np.round(log_p,1)\n",
    "best_log_p=pd.Series(log_p_values).loc[np.argmin(error_log)]\n",
    "error_logp=min(error_log)\n",
    "print (\"Error: \",error_logp)\n",
    "print (\"Best log10(p) value :\",best_log_p)\n",
    "  "
   ]
  },
  {
   "cell_type": "markdown",
   "metadata": {},
   "source": [
    "Plotting Log10(p) values against errors"
   ]
  },
  {
   "cell_type": "code",
   "execution_count": 33,
   "metadata": {},
   "outputs": [
    {
     "data": {
      "text/plain": [
       "Text(0, 0.5, 'Error')"
      ]
     },
     "execution_count": 33,
     "metadata": {},
     "output_type": "execute_result"
    },
    {
     "data": {
      "image/png": "[encoded data removed]",
      "text/plain": [
       "<Figure size 432x288 with 1 Axes>"
      ]
     },
     "metadata": {
      "needs_background": "light"
     },
     "output_type": "display_data"
    }
   ],
   "source": [
    "plt.plot(log_p_values,error_log)\n",
    "plt.xlabel(\"log10(p)\")\n",
    "plt.ylabel(\"Error\")"
   ]
  },
  {
   "cell_type": "code",
   "execution_count": 34,
   "metadata": {},
   "outputs": [
    {
     "name": "stdout",
     "output_type": "stream",
     "text": [
      "Confusion matrix : \n"
     ]
    },
    {
     "data": {
      "text/plain": [
       "array([[24,  6],\n",
       "       [ 0, 70]], dtype=int64)"
      ]
     },
     "execution_count": 34,
     "metadata": {},
     "output_type": "execute_result"
    }
   ],
   "source": [
    "knn_log=KNeighborsClassifier(n_neighbors=k_star,p=(pd.Series(p_values).loc[best_log_p*10-1]))\n",
    "knn_log.fit(X_train,y_train)\n",
    "y_predict=knn_log.predict(X_test)\n",
    "print (\"Confusion matrix : \")\n",
    "confusion_matrix(y_test,y_predict)"
   ]
  },
  {
   "cell_type": "code",
   "execution_count": 35,
   "metadata": {},
   "outputs": [
    {
     "name": "stdout",
     "output_type": "stream",
     "text": [
      "              precision    recall  f1-score   support\n",
      "\n",
      "           0       1.00      0.80      0.89        30\n",
      "           1       0.92      1.00      0.96        70\n",
      "\n",
      "    accuracy                           0.94       100\n",
      "   macro avg       0.96      0.90      0.92       100\n",
      "weighted avg       0.94      0.94      0.94       100\n",
      "\n"
     ]
    }
   ],
   "source": [
    "print(classification_report(y_test,y_predict))"
   ]
  },
  {
   "cell_type": "markdown",
   "metadata": {},
   "source": [
    "# i. C. Performing KNN with Chebyshev Distance with p → ∞"
   ]
  },
  {
   "cell_type": "code",
   "execution_count": 36,
   "metadata": {},
   "outputs": [
    {
     "name": "stdout",
     "output_type": "stream",
     "text": [
      "Error :  0.08\n",
      "k* : 16\n"
     ]
    }
   ],
   "source": [
    "k_range=range(1,200,5)\n",
    "error=[]\n",
    "p_value=float('inf')\n",
    "for k in k_range:\n",
    "    knn_chebyshev=KNeighborsClassifier(n_neighbors=k, p=p_value )\n",
    "    knn_chebyshev.fit(X_train,y_train)\n",
    "    y_predict=knn_chebyshev.predict(X_test)\n",
    "    error.append(np.mean(y_predict != y_test))\n",
    "k_star=pd.Series(k_range).loc[np.argmin(error)]\n",
    "error_chebyshev=min(error)\n",
    "print (\"Error : \",error_chebyshev)\n",
    "print (\"k* :\",k_star)\n"
   ]
  },
  {
   "cell_type": "markdown",
   "metadata": {},
   "source": [
    "K values with their corresponding errors"
   ]
  },
  {
   "cell_type": "code",
   "execution_count": 37,
   "metadata": {},
   "outputs": [
    {
     "data": {
      "text/html": [
       "<div>\n",
       "<style scoped>\n",
       "    .dataframe tbody tr th:only-of-type {\n",
       "        vertical-align: middle;\n",
       "    }\n",
       "\n",
       "    .dataframe tbody tr th {\n",
       "        vertical-align: top;\n",
       "    }\n",
       "\n",
       "    .dataframe thead th {\n",
       "        text-align: right;\n",
       "    }\n",
       "</style>\n",
       "<table border=\"1\" class=\"dataframe\">\n",
       "  <thead>\n",
       "    <tr style=\"text-align: right;\">\n",
       "      <th></th>\n",
       "      <th>K</th>\n",
       "      <th>Error</th>\n",
       "    </tr>\n",
       "  </thead>\n",
       "  <tbody>\n",
       "    <tr>\n",
       "      <th>0</th>\n",
       "      <td>1</td>\n",
       "      <td>0.13</td>\n",
       "    </tr>\n",
       "    <tr>\n",
       "      <th>1</th>\n",
       "      <td>6</td>\n",
       "      <td>0.10</td>\n",
       "    </tr>\n",
       "    <tr>\n",
       "      <th>2</th>\n",
       "      <td>11</td>\n",
       "      <td>0.12</td>\n",
       "    </tr>\n",
       "    <tr>\n",
       "      <th>3</th>\n",
       "      <td>16</td>\n",
       "      <td>0.08</td>\n",
       "    </tr>\n",
       "    <tr>\n",
       "      <th>4</th>\n",
       "      <td>21</td>\n",
       "      <td>0.11</td>\n",
       "    </tr>\n",
       "    <tr>\n",
       "      <th>5</th>\n",
       "      <td>26</td>\n",
       "      <td>0.12</td>\n",
       "    </tr>\n",
       "    <tr>\n",
       "      <th>6</th>\n",
       "      <td>31</td>\n",
       "      <td>0.12</td>\n",
       "    </tr>\n",
       "    <tr>\n",
       "      <th>7</th>\n",
       "      <td>36</td>\n",
       "      <td>0.10</td>\n",
       "    </tr>\n",
       "    <tr>\n",
       "      <th>8</th>\n",
       "      <td>41</td>\n",
       "      <td>0.13</td>\n",
       "    </tr>\n",
       "    <tr>\n",
       "      <th>9</th>\n",
       "      <td>46</td>\n",
       "      <td>0.12</td>\n",
       "    </tr>\n",
       "    <tr>\n",
       "      <th>10</th>\n",
       "      <td>51</td>\n",
       "      <td>0.12</td>\n",
       "    </tr>\n",
       "    <tr>\n",
       "      <th>11</th>\n",
       "      <td>56</td>\n",
       "      <td>0.12</td>\n",
       "    </tr>\n",
       "    <tr>\n",
       "      <th>12</th>\n",
       "      <td>61</td>\n",
       "      <td>0.14</td>\n",
       "    </tr>\n",
       "    <tr>\n",
       "      <th>13</th>\n",
       "      <td>66</td>\n",
       "      <td>0.13</td>\n",
       "    </tr>\n",
       "    <tr>\n",
       "      <th>14</th>\n",
       "      <td>71</td>\n",
       "      <td>0.14</td>\n",
       "    </tr>\n",
       "    <tr>\n",
       "      <th>15</th>\n",
       "      <td>76</td>\n",
       "      <td>0.11</td>\n",
       "    </tr>\n",
       "    <tr>\n",
       "      <th>16</th>\n",
       "      <td>81</td>\n",
       "      <td>0.14</td>\n",
       "    </tr>\n",
       "    <tr>\n",
       "      <th>17</th>\n",
       "      <td>86</td>\n",
       "      <td>0.12</td>\n",
       "    </tr>\n",
       "    <tr>\n",
       "      <th>18</th>\n",
       "      <td>91</td>\n",
       "      <td>0.15</td>\n",
       "    </tr>\n",
       "    <tr>\n",
       "      <th>19</th>\n",
       "      <td>96</td>\n",
       "      <td>0.14</td>\n",
       "    </tr>\n",
       "    <tr>\n",
       "      <th>20</th>\n",
       "      <td>101</td>\n",
       "      <td>0.19</td>\n",
       "    </tr>\n",
       "    <tr>\n",
       "      <th>21</th>\n",
       "      <td>106</td>\n",
       "      <td>0.18</td>\n",
       "    </tr>\n",
       "    <tr>\n",
       "      <th>22</th>\n",
       "      <td>111</td>\n",
       "      <td>0.18</td>\n",
       "    </tr>\n",
       "    <tr>\n",
       "      <th>23</th>\n",
       "      <td>116</td>\n",
       "      <td>0.18</td>\n",
       "    </tr>\n",
       "    <tr>\n",
       "      <th>24</th>\n",
       "      <td>121</td>\n",
       "      <td>0.21</td>\n",
       "    </tr>\n",
       "    <tr>\n",
       "      <th>25</th>\n",
       "      <td>126</td>\n",
       "      <td>0.21</td>\n",
       "    </tr>\n",
       "    <tr>\n",
       "      <th>26</th>\n",
       "      <td>131</td>\n",
       "      <td>0.25</td>\n",
       "    </tr>\n",
       "    <tr>\n",
       "      <th>27</th>\n",
       "      <td>136</td>\n",
       "      <td>0.28</td>\n",
       "    </tr>\n",
       "    <tr>\n",
       "      <th>28</th>\n",
       "      <td>141</td>\n",
       "      <td>0.30</td>\n",
       "    </tr>\n",
       "    <tr>\n",
       "      <th>29</th>\n",
       "      <td>146</td>\n",
       "      <td>0.30</td>\n",
       "    </tr>\n",
       "    <tr>\n",
       "      <th>30</th>\n",
       "      <td>151</td>\n",
       "      <td>0.30</td>\n",
       "    </tr>\n",
       "    <tr>\n",
       "      <th>31</th>\n",
       "      <td>156</td>\n",
       "      <td>0.30</td>\n",
       "    </tr>\n",
       "    <tr>\n",
       "      <th>32</th>\n",
       "      <td>161</td>\n",
       "      <td>0.30</td>\n",
       "    </tr>\n",
       "    <tr>\n",
       "      <th>33</th>\n",
       "      <td>166</td>\n",
       "      <td>0.30</td>\n",
       "    </tr>\n",
       "    <tr>\n",
       "      <th>34</th>\n",
       "      <td>171</td>\n",
       "      <td>0.30</td>\n",
       "    </tr>\n",
       "    <tr>\n",
       "      <th>35</th>\n",
       "      <td>176</td>\n",
       "      <td>0.30</td>\n",
       "    </tr>\n",
       "    <tr>\n",
       "      <th>36</th>\n",
       "      <td>181</td>\n",
       "      <td>0.30</td>\n",
       "    </tr>\n",
       "    <tr>\n",
       "      <th>37</th>\n",
       "      <td>186</td>\n",
       "      <td>0.30</td>\n",
       "    </tr>\n",
       "    <tr>\n",
       "      <th>38</th>\n",
       "      <td>191</td>\n",
       "      <td>0.30</td>\n",
       "    </tr>\n",
       "    <tr>\n",
       "      <th>39</th>\n",
       "      <td>196</td>\n",
       "      <td>0.30</td>\n",
       "    </tr>\n",
       "  </tbody>\n",
       "</table>\n",
       "</div>"
      ],
      "text/plain": [
       "      K  Error\n",
       "0     1   0.13\n",
       "1     6   0.10\n",
       "2    11   0.12\n",
       "3    16   0.08\n",
       "4    21   0.11\n",
       "5    26   0.12\n",
       "6    31   0.12\n",
       "7    36   0.10\n",
       "8    41   0.13\n",
       "9    46   0.12\n",
       "10   51   0.12\n",
       "11   56   0.12\n",
       "12   61   0.14\n",
       "13   66   0.13\n",
       "14   71   0.14\n",
       "15   76   0.11\n",
       "16   81   0.14\n",
       "17   86   0.12\n",
       "18   91   0.15\n",
       "19   96   0.14\n",
       "20  101   0.19\n",
       "21  106   0.18\n",
       "22  111   0.18\n",
       "23  116   0.18\n",
       "24  121   0.21\n",
       "25  126   0.21\n",
       "26  131   0.25\n",
       "27  136   0.28\n",
       "28  141   0.30\n",
       "29  146   0.30\n",
       "30  151   0.30\n",
       "31  156   0.30\n",
       "32  161   0.30\n",
       "33  166   0.30\n",
       "34  171   0.30\n",
       "35  176   0.30\n",
       "36  181   0.30\n",
       "37  186   0.30\n",
       "38  191   0.30\n",
       "39  196   0.30"
      ]
     },
     "execution_count": 37,
     "metadata": {},
     "output_type": "execute_result"
    }
   ],
   "source": [
    "d={\"K\":pd.Series(k_range),\"Error\":error}\n",
    "pd.DataFrame(data=d)"
   ]
  },
  {
   "cell_type": "code",
   "execution_count": 38,
   "metadata": {},
   "outputs": [
    {
     "data": {
      "text/plain": [
       "Text(0, 0.5, 'Error')"
      ]
     },
     "execution_count": 38,
     "metadata": {},
     "output_type": "execute_result"
    },
    {
     "data": {
      "image/png": "[encoded data removed]",
      "text/plain": [
       "<Figure size 432x288 with 1 Axes>"
      ]
     },
     "metadata": {
      "needs_background": "light"
     },
     "output_type": "display_data"
    }
   ],
   "source": [
    "plt.plot(pd.Series(k_range),error)\n",
    "plt.xlabel(\"K\")\n",
    "plt.ylabel(\"Error\")"
   ]
  },
  {
   "cell_type": "markdown",
   "metadata": {},
   "source": [
    "Confusion Matrix"
   ]
  },
  {
   "cell_type": "code",
   "execution_count": 39,
   "metadata": {},
   "outputs": [
    {
     "data": {
      "text/plain": [
       "array([[22,  8],\n",
       "       [ 0, 70]], dtype=int64)"
      ]
     },
     "execution_count": 39,
     "metadata": {},
     "output_type": "execute_result"
    }
   ],
   "source": [
    "knn_chebyshev=KNeighborsClassifier(n_neighbors=k_star, p=p_value )\n",
    "knn_chebyshev.fit(X_train,y_train)\n",
    "y_predict=knn_chebyshev.predict(X_test)\n",
    "\n",
    "confusion_matrix(y_test,y_predict)"
   ]
  },
  {
   "cell_type": "code",
   "execution_count": 40,
   "metadata": {},
   "outputs": [
    {
     "name": "stdout",
     "output_type": "stream",
     "text": [
      "              precision    recall  f1-score   support\n",
      "\n",
      "           0       1.00      0.73      0.85        30\n",
      "           1       0.90      1.00      0.95        70\n",
      "\n",
      "    accuracy                           0.92       100\n",
      "   macro avg       0.95      0.87      0.90       100\n",
      "weighted avg       0.93      0.92      0.92       100\n",
      "\n"
     ]
    }
   ],
   "source": [
    "print (classification_report(y_test,y_predict))"
   ]
  },
  {
   "cell_type": "markdown",
   "metadata": {},
   "source": [
    "# ii. Performing KNN with Mahalanobis Distance"
   ]
  },
  {
   "cell_type": "markdown",
   "metadata": {},
   "source": [
    "Calculating the covariance matrix"
   ]
  },
  {
   "cell_type": "code",
   "execution_count": 41,
   "metadata": {},
   "outputs": [
    {
     "name": "stdout",
     "output_type": "stream",
     "text": [
      "Covariance matrix :\n"
     ]
    },
    {
     "data": {
      "text/html": [
       "<div>\n",
       "<style scoped>\n",
       "    .dataframe tbody tr th:only-of-type {\n",
       "        vertical-align: middle;\n",
       "    }\n",
       "\n",
       "    .dataframe tbody tr th {\n",
       "        vertical-align: top;\n",
       "    }\n",
       "\n",
       "    .dataframe thead th {\n",
       "        text-align: right;\n",
       "    }\n",
       "</style>\n",
       "<table border=\"1\" class=\"dataframe\">\n",
       "  <thead>\n",
       "    <tr style=\"text-align: right;\">\n",
       "      <th></th>\n",
       "      <th>0</th>\n",
       "      <th>1</th>\n",
       "      <th>2</th>\n",
       "      <th>3</th>\n",
       "      <th>4</th>\n",
       "      <th>5</th>\n",
       "    </tr>\n",
       "  </thead>\n",
       "  <tbody>\n",
       "    <tr>\n",
       "      <th>0</th>\n",
       "      <td>278.812219</td>\n",
       "      <td>90.575904</td>\n",
       "      <td>206.378797</td>\n",
       "      <td>188.228890</td>\n",
       "      <td>-33.538219</td>\n",
       "      <td>433.664460</td>\n",
       "    </tr>\n",
       "    <tr>\n",
       "      <th>1</th>\n",
       "      <td>90.575904</td>\n",
       "      <td>83.370036</td>\n",
       "      <td>58.067731</td>\n",
       "      <td>7.204102</td>\n",
       "      <td>2.392868</td>\n",
       "      <td>115.453155</td>\n",
       "    </tr>\n",
       "    <tr>\n",
       "      <th>2</th>\n",
       "      <td>206.378797</td>\n",
       "      <td>58.067731</td>\n",
       "      <td>285.448161</td>\n",
       "      <td>148.304724</td>\n",
       "      <td>-1.916957</td>\n",
       "      <td>299.199171</td>\n",
       "    </tr>\n",
       "    <tr>\n",
       "      <th>3</th>\n",
       "      <td>188.228890</td>\n",
       "      <td>7.204102</td>\n",
       "      <td>148.304724</td>\n",
       "      <td>181.019158</td>\n",
       "      <td>-35.932361</td>\n",
       "      <td>318.208569</td>\n",
       "    </tr>\n",
       "    <tr>\n",
       "      <th>4</th>\n",
       "      <td>-33.538219</td>\n",
       "      <td>2.392868</td>\n",
       "      <td>-1.916957</td>\n",
       "      <td>-35.932361</td>\n",
       "      <td>131.002878</td>\n",
       "      <td>3.525947</td>\n",
       "    </tr>\n",
       "    <tr>\n",
       "      <th>5</th>\n",
       "      <td>433.664460</td>\n",
       "      <td>115.453155</td>\n",
       "      <td>299.199171</td>\n",
       "      <td>318.208569</td>\n",
       "      <td>3.525947</td>\n",
       "      <td>1580.036177</td>\n",
       "    </tr>\n",
       "  </tbody>\n",
       "</table>\n",
       "</div>"
      ],
      "text/plain": [
       "            0           1           2           3           4            5\n",
       "0  278.812219   90.575904  206.378797  188.228890  -33.538219   433.664460\n",
       "1   90.575904   83.370036   58.067731    7.204102    2.392868   115.453155\n",
       "2  206.378797   58.067731  285.448161  148.304724   -1.916957   299.199171\n",
       "3  188.228890    7.204102  148.304724  181.019158  -35.932361   318.208569\n",
       "4  -33.538219    2.392868   -1.916957  -35.932361  131.002878     3.525947\n",
       "5  433.664460  115.453155  299.199171  318.208569    3.525947  1580.036177"
      ]
     },
     "execution_count": 41,
     "metadata": {},
     "output_type": "execute_result"
    }
   ],
   "source": [
    "covariance=np.cov(X_train,rowvar=False)\n",
    "print (\"Covariance matrix :\")\n",
    "pd.DataFrame(covariance)"
   ]
  },
  {
   "cell_type": "markdown",
   "metadata": {},
   "source": [
    "Calculating inverse of covariance matrix"
   ]
  },
  {
   "cell_type": "code",
   "execution_count": 42,
   "metadata": {},
   "outputs": [
    {
     "name": "stdout",
     "output_type": "stream",
     "text": [
      "Det : 5625467.157210756\n"
     ]
    }
   ],
   "source": [
    "det=np.linalg.det(covariance)\n",
    "print (\"Det :\",det)"
   ]
  },
  {
   "cell_type": "code",
   "execution_count": 43,
   "metadata": {},
   "outputs": [
    {
     "name": "stdout",
     "output_type": "stream",
     "text": [
      "Inverse of Covariance matrix :\n"
     ]
    },
    {
     "data": {
      "text/html": [
       "<div>\n",
       "<style scoped>\n",
       "    .dataframe tbody tr th:only-of-type {\n",
       "        vertical-align: middle;\n",
       "    }\n",
       "\n",
       "    .dataframe tbody tr th {\n",
       "        vertical-align: top;\n",
       "    }\n",
       "\n",
       "    .dataframe thead th {\n",
       "        text-align: right;\n",
       "    }\n",
       "</style>\n",
       "<table border=\"1\" class=\"dataframe\">\n",
       "  <thead>\n",
       "    <tr style=\"text-align: right;\">\n",
       "      <th></th>\n",
       "      <th>0</th>\n",
       "      <th>1</th>\n",
       "      <th>2</th>\n",
       "      <th>3</th>\n",
       "      <th>4</th>\n",
       "      <th>5</th>\n",
       "    </tr>\n",
       "  </thead>\n",
       "  <tbody>\n",
       "    <tr>\n",
       "      <th>0</th>\n",
       "      <td>35469.247900</td>\n",
       "      <td>-35470.419288</td>\n",
       "      <td>0.048100</td>\n",
       "      <td>-35471.263339</td>\n",
       "      <td>-0.886924</td>\n",
       "      <td>0.422953</td>\n",
       "    </tr>\n",
       "    <tr>\n",
       "      <th>1</th>\n",
       "      <td>-35470.419288</td>\n",
       "      <td>35471.608119</td>\n",
       "      <td>-0.053512</td>\n",
       "      <td>35472.441743</td>\n",
       "      <td>0.888507</td>\n",
       "      <td>-0.424617</td>\n",
       "    </tr>\n",
       "    <tr>\n",
       "      <th>2</th>\n",
       "      <td>0.048100</td>\n",
       "      <td>-0.053512</td>\n",
       "      <td>0.008041</td>\n",
       "      <td>-0.055468</td>\n",
       "      <td>-0.001815</td>\n",
       "      <td>0.000361</td>\n",
       "    </tr>\n",
       "    <tr>\n",
       "      <th>3</th>\n",
       "      <td>-35471.263339</td>\n",
       "      <td>35472.441743</td>\n",
       "      <td>-0.055468</td>\n",
       "      <td>35473.295301</td>\n",
       "      <td>0.891306</td>\n",
       "      <td>-0.425404</td>\n",
       "    </tr>\n",
       "    <tr>\n",
       "      <th>4</th>\n",
       "      <td>-0.886924</td>\n",
       "      <td>0.888507</td>\n",
       "      <td>-0.001815</td>\n",
       "      <td>0.891306</td>\n",
       "      <td>0.008807</td>\n",
       "      <td>-0.000673</td>\n",
       "    </tr>\n",
       "    <tr>\n",
       "      <th>5</th>\n",
       "      <td>0.422953</td>\n",
       "      <td>-0.424617</td>\n",
       "      <td>0.000361</td>\n",
       "      <td>-0.425404</td>\n",
       "      <td>-0.000673</td>\n",
       "      <td>0.001181</td>\n",
       "    </tr>\n",
       "  </tbody>\n",
       "</table>\n",
       "</div>"
      ],
      "text/plain": [
       "              0             1         2             3         4         5\n",
       "0  35469.247900 -35470.419288  0.048100 -35471.263339 -0.886924  0.422953\n",
       "1 -35470.419288  35471.608119 -0.053512  35472.441743  0.888507 -0.424617\n",
       "2      0.048100     -0.053512  0.008041     -0.055468 -0.001815  0.000361\n",
       "3 -35471.263339  35472.441743 -0.055468  35473.295301  0.891306 -0.425404\n",
       "4     -0.886924      0.888507 -0.001815      0.891306  0.008807 -0.000673\n",
       "5      0.422953     -0.424617  0.000361     -0.425404 -0.000673  0.001181"
      ]
     },
     "execution_count": 43,
     "metadata": {},
     "output_type": "execute_result"
    }
   ],
   "source": [
    "if det==0:\n",
    "    inverse=np.linalg.pinv(covariance)\n",
    "else:\n",
    "    inverse=np.linalg.inv(covariance)\n",
    "print (\"Inverse of Covariance matrix :\")\n",
    "pd.DataFrame(inverse)"
   ]
  },
  {
   "cell_type": "markdown",
   "metadata": {},
   "source": [
    "Calculating k* and error"
   ]
  },
  {
   "cell_type": "code",
   "execution_count": 44,
   "metadata": {},
   "outputs": [
    {
     "name": "stdout",
     "output_type": "stream",
     "text": [
      "Error :  0.17\n",
      "k* : 1\n"
     ]
    }
   ],
   "source": [
    "k_range=range(1,200,5)\n",
    "error=[]\n",
    "for k in k_range:\n",
    "    knn_mahalanobis=KNeighborsClassifier(n_neighbors=k,metric='mahalanobis',metric_params={'VI': inverse })\n",
    "    knn_mahalanobis.fit(X_train,y_train)\n",
    "    y_predict=knn_mahalanobis.predict(X_test)\n",
    "    error.append(np.mean(y_predict != y_test))\n",
    "k_star=pd.Series(k_range).loc[(np.argmin(error))]\n",
    "error_mahalanobis=min(error)\n",
    "print (\"Error : \", error_mahalanobis)\n",
    "print (\"k* :\", k_star)\n",
    "# error"
   ]
  },
  {
   "cell_type": "markdown",
   "metadata": {},
   "source": [
    "K values with their corresponding errors"
   ]
  },
  {
   "cell_type": "code",
   "execution_count": 45,
   "metadata": {},
   "outputs": [
    {
     "data": {
      "text/html": [
       "<div>\n",
       "<style scoped>\n",
       "    .dataframe tbody tr th:only-of-type {\n",
       "        vertical-align: middle;\n",
       "    }\n",
       "\n",
       "    .dataframe tbody tr th {\n",
       "        vertical-align: top;\n",
       "    }\n",
       "\n",
       "    .dataframe thead th {\n",
       "        text-align: right;\n",
       "    }\n",
       "</style>\n",
       "<table border=\"1\" class=\"dataframe\">\n",
       "  <thead>\n",
       "    <tr style=\"text-align: right;\">\n",
       "      <th></th>\n",
       "      <th>K</th>\n",
       "      <th>Error</th>\n",
       "    </tr>\n",
       "  </thead>\n",
       "  <tbody>\n",
       "    <tr>\n",
       "      <th>0</th>\n",
       "      <td>1</td>\n",
       "      <td>0.17</td>\n",
       "    </tr>\n",
       "    <tr>\n",
       "      <th>1</th>\n",
       "      <td>6</td>\n",
       "      <td>0.17</td>\n",
       "    </tr>\n",
       "    <tr>\n",
       "      <th>2</th>\n",
       "      <td>11</td>\n",
       "      <td>0.20</td>\n",
       "    </tr>\n",
       "    <tr>\n",
       "      <th>3</th>\n",
       "      <td>16</td>\n",
       "      <td>0.20</td>\n",
       "    </tr>\n",
       "    <tr>\n",
       "      <th>4</th>\n",
       "      <td>21</td>\n",
       "      <td>0.21</td>\n",
       "    </tr>\n",
       "    <tr>\n",
       "      <th>5</th>\n",
       "      <td>26</td>\n",
       "      <td>0.20</td>\n",
       "    </tr>\n",
       "    <tr>\n",
       "      <th>6</th>\n",
       "      <td>31</td>\n",
       "      <td>0.23</td>\n",
       "    </tr>\n",
       "    <tr>\n",
       "      <th>7</th>\n",
       "      <td>36</td>\n",
       "      <td>0.21</td>\n",
       "    </tr>\n",
       "    <tr>\n",
       "      <th>8</th>\n",
       "      <td>41</td>\n",
       "      <td>0.24</td>\n",
       "    </tr>\n",
       "    <tr>\n",
       "      <th>9</th>\n",
       "      <td>46</td>\n",
       "      <td>0.24</td>\n",
       "    </tr>\n",
       "    <tr>\n",
       "      <th>10</th>\n",
       "      <td>51</td>\n",
       "      <td>0.24</td>\n",
       "    </tr>\n",
       "    <tr>\n",
       "      <th>11</th>\n",
       "      <td>56</td>\n",
       "      <td>0.26</td>\n",
       "    </tr>\n",
       "    <tr>\n",
       "      <th>12</th>\n",
       "      <td>61</td>\n",
       "      <td>0.25</td>\n",
       "    </tr>\n",
       "    <tr>\n",
       "      <th>13</th>\n",
       "      <td>66</td>\n",
       "      <td>0.27</td>\n",
       "    </tr>\n",
       "    <tr>\n",
       "      <th>14</th>\n",
       "      <td>71</td>\n",
       "      <td>0.26</td>\n",
       "    </tr>\n",
       "    <tr>\n",
       "      <th>15</th>\n",
       "      <td>76</td>\n",
       "      <td>0.25</td>\n",
       "    </tr>\n",
       "    <tr>\n",
       "      <th>16</th>\n",
       "      <td>81</td>\n",
       "      <td>0.24</td>\n",
       "    </tr>\n",
       "    <tr>\n",
       "      <th>17</th>\n",
       "      <td>86</td>\n",
       "      <td>0.26</td>\n",
       "    </tr>\n",
       "    <tr>\n",
       "      <th>18</th>\n",
       "      <td>91</td>\n",
       "      <td>0.26</td>\n",
       "    </tr>\n",
       "    <tr>\n",
       "      <th>19</th>\n",
       "      <td>96</td>\n",
       "      <td>0.26</td>\n",
       "    </tr>\n",
       "    <tr>\n",
       "      <th>20</th>\n",
       "      <td>101</td>\n",
       "      <td>0.28</td>\n",
       "    </tr>\n",
       "    <tr>\n",
       "      <th>21</th>\n",
       "      <td>106</td>\n",
       "      <td>0.28</td>\n",
       "    </tr>\n",
       "    <tr>\n",
       "      <th>22</th>\n",
       "      <td>111</td>\n",
       "      <td>0.31</td>\n",
       "    </tr>\n",
       "    <tr>\n",
       "      <th>23</th>\n",
       "      <td>116</td>\n",
       "      <td>0.29</td>\n",
       "    </tr>\n",
       "    <tr>\n",
       "      <th>24</th>\n",
       "      <td>121</td>\n",
       "      <td>0.30</td>\n",
       "    </tr>\n",
       "    <tr>\n",
       "      <th>25</th>\n",
       "      <td>126</td>\n",
       "      <td>0.30</td>\n",
       "    </tr>\n",
       "    <tr>\n",
       "      <th>26</th>\n",
       "      <td>131</td>\n",
       "      <td>0.30</td>\n",
       "    </tr>\n",
       "    <tr>\n",
       "      <th>27</th>\n",
       "      <td>136</td>\n",
       "      <td>0.30</td>\n",
       "    </tr>\n",
       "    <tr>\n",
       "      <th>28</th>\n",
       "      <td>141</td>\n",
       "      <td>0.30</td>\n",
       "    </tr>\n",
       "    <tr>\n",
       "      <th>29</th>\n",
       "      <td>146</td>\n",
       "      <td>0.30</td>\n",
       "    </tr>\n",
       "    <tr>\n",
       "      <th>30</th>\n",
       "      <td>151</td>\n",
       "      <td>0.30</td>\n",
       "    </tr>\n",
       "    <tr>\n",
       "      <th>31</th>\n",
       "      <td>156</td>\n",
       "      <td>0.30</td>\n",
       "    </tr>\n",
       "    <tr>\n",
       "      <th>32</th>\n",
       "      <td>161</td>\n",
       "      <td>0.30</td>\n",
       "    </tr>\n",
       "    <tr>\n",
       "      <th>33</th>\n",
       "      <td>166</td>\n",
       "      <td>0.30</td>\n",
       "    </tr>\n",
       "    <tr>\n",
       "      <th>34</th>\n",
       "      <td>171</td>\n",
       "      <td>0.30</td>\n",
       "    </tr>\n",
       "    <tr>\n",
       "      <th>35</th>\n",
       "      <td>176</td>\n",
       "      <td>0.30</td>\n",
       "    </tr>\n",
       "    <tr>\n",
       "      <th>36</th>\n",
       "      <td>181</td>\n",
       "      <td>0.30</td>\n",
       "    </tr>\n",
       "    <tr>\n",
       "      <th>37</th>\n",
       "      <td>186</td>\n",
       "      <td>0.30</td>\n",
       "    </tr>\n",
       "    <tr>\n",
       "      <th>38</th>\n",
       "      <td>191</td>\n",
       "      <td>0.30</td>\n",
       "    </tr>\n",
       "    <tr>\n",
       "      <th>39</th>\n",
       "      <td>196</td>\n",
       "      <td>0.30</td>\n",
       "    </tr>\n",
       "  </tbody>\n",
       "</table>\n",
       "</div>"
      ],
      "text/plain": [
       "      K  Error\n",
       "0     1   0.17\n",
       "1     6   0.17\n",
       "2    11   0.20\n",
       "3    16   0.20\n",
       "4    21   0.21\n",
       "5    26   0.20\n",
       "6    31   0.23\n",
       "7    36   0.21\n",
       "8    41   0.24\n",
       "9    46   0.24\n",
       "10   51   0.24\n",
       "11   56   0.26\n",
       "12   61   0.25\n",
       "13   66   0.27\n",
       "14   71   0.26\n",
       "15   76   0.25\n",
       "16   81   0.24\n",
       "17   86   0.26\n",
       "18   91   0.26\n",
       "19   96   0.26\n",
       "20  101   0.28\n",
       "21  106   0.28\n",
       "22  111   0.31\n",
       "23  116   0.29\n",
       "24  121   0.30\n",
       "25  126   0.30\n",
       "26  131   0.30\n",
       "27  136   0.30\n",
       "28  141   0.30\n",
       "29  146   0.30\n",
       "30  151   0.30\n",
       "31  156   0.30\n",
       "32  161   0.30\n",
       "33  166   0.30\n",
       "34  171   0.30\n",
       "35  176   0.30\n",
       "36  181   0.30\n",
       "37  186   0.30\n",
       "38  191   0.30\n",
       "39  196   0.30"
      ]
     },
     "execution_count": 45,
     "metadata": {},
     "output_type": "execute_result"
    }
   ],
   "source": [
    "d={\"K\":pd.Series(k_range),\"Error\":error}\n",
    "pd.DataFrame(data=d)"
   ]
  },
  {
   "cell_type": "code",
   "execution_count": 46,
   "metadata": {},
   "outputs": [
    {
     "data": {
      "text/plain": [
       "Text(0, 0.5, 'Error')"
      ]
     },
     "execution_count": 46,
     "metadata": {},
     "output_type": "execute_result"
    },
    {
     "data": {
      "image/png": "[encoded data removed]",
      "text/plain": [
       "<Figure size 432x288 with 1 Axes>"
      ]
     },
     "metadata": {
      "needs_background": "light"
     },
     "output_type": "display_data"
    }
   ],
   "source": [
    "plt.plot(pd.Series(k_range),error)\n",
    "plt.xlabel(\"K\")\n",
    "plt.ylabel(\"Error\")"
   ]
  },
  {
   "cell_type": "markdown",
   "metadata": {},
   "source": [
    "Confusion Matrix"
   ]
  },
  {
   "cell_type": "code",
   "execution_count": 47,
   "metadata": {},
   "outputs": [
    {
     "data": {
      "text/plain": [
       "array([[18, 12],\n",
       "       [ 5, 65]], dtype=int64)"
      ]
     },
     "execution_count": 47,
     "metadata": {},
     "output_type": "execute_result"
    }
   ],
   "source": [
    "knn_mahalanobis=KNeighborsClassifier(n_neighbors=k_star,metric='mahalanobis',metric_params={'VI': inverse })\n",
    "knn_mahalanobis.fit(X_train,y_train)\n",
    "y_predict=knn_mahalanobis.predict(X_test)\n",
    "\n",
    "confusion_matrix(y_test,y_predict)"
   ]
  },
  {
   "cell_type": "code",
   "execution_count": 48,
   "metadata": {},
   "outputs": [
    {
     "name": "stdout",
     "output_type": "stream",
     "text": [
      "              precision    recall  f1-score   support\n",
      "\n",
      "           0       0.78      0.60      0.68        30\n",
      "           1       0.84      0.93      0.88        70\n",
      "\n",
      "    accuracy                           0.83       100\n",
      "   macro avg       0.81      0.76      0.78       100\n",
      "weighted avg       0.83      0.83      0.82       100\n",
      "\n"
     ]
    }
   ],
   "source": [
    "print (classification_report(y_test,y_predict))"
   ]
  },
  {
   "cell_type": "markdown",
   "metadata": {},
   "source": [
    "# (e) Performing Weighted KNN using different distances"
   ]
  },
  {
   "cell_type": "markdown",
   "metadata": {},
   "source": [
    "using Euclidian distance"
   ]
  },
  {
   "cell_type": "code",
   "execution_count": 49,
   "metadata": {},
   "outputs": [
    {
     "name": "stdout",
     "output_type": "stream",
     "text": [
      "Error :  0.1\n",
      "k* :  6\n"
     ]
    }
   ],
   "source": [
    "k_range=range(1,200,5)\n",
    "error=[]\n",
    "for k in k_range:\n",
    "    knn_weighted_euclidian=KNeighborsClassifier(n_neighbors=k,weights='distance')\n",
    "    knn_weighted_euclidian.fit(X_train,y_train)\n",
    "    y_predict=knn_weighted_euclidian.predict(X_test)\n",
    "    error.append(np.mean(y_predict != y_test))\n",
    "k_star=pd.Series(k_range).loc[(np.argmin(error))]\n",
    "error_euclidian_w=min(error)\n",
    "print (\"Error : \",error_euclidian_w)\n",
    "print (\"k* : \",k_star)"
   ]
  },
  {
   "cell_type": "markdown",
   "metadata": {},
   "source": [
    "using Manhattan distance"
   ]
  },
  {
   "cell_type": "code",
   "execution_count": 50,
   "metadata": {},
   "outputs": [
    {
     "name": "stdout",
     "output_type": "stream",
     "text": [
      "Error :  0.1\n",
      "k* :  26\n"
     ]
    }
   ],
   "source": [
    "error=[]\n",
    "for k in k_range:\n",
    "    knn_weighted_manhattan=KNeighborsClassifier(n_neighbors=k,metric='manhattan',weights='distance')\n",
    "    knn_weighted_manhattan.fit(X_train,y_train)\n",
    "    y_predict=knn_weighted_manhattan.predict(X_test)\n",
    "    error.append(np.mean(y_predict != y_test))\n",
    "k_star=pd.Series(k_range).loc[(np.argmin(error))]\n",
    "error_manhattan_w=min(error)\n",
    "print (\"Error : \", error_manhattan_w)\n",
    "print (\"k* : \",k_star)\n"
   ]
  },
  {
   "cell_type": "markdown",
   "metadata": {},
   "source": [
    "using Chebyshev distance"
   ]
  },
  {
   "cell_type": "code",
   "execution_count": 51,
   "metadata": {},
   "outputs": [
    {
     "name": "stdout",
     "output_type": "stream",
     "text": [
      "Error :  0.11\n",
      "k* :  16\n"
     ]
    }
   ],
   "source": [
    "error=[]\n",
    "for k in k_range:\n",
    "    knn_weighted_chebyshev=KNeighborsClassifier(n_neighbors=k,metric='chebyshev',weights='distance')\n",
    "    knn_weighted_chebyshev.fit(X_train,y_train)\n",
    "    y_predict=knn_weighted_chebyshev.predict(X_test)\n",
    "    error.append(np.mean(y_predict != y_test))\n",
    "k_star=pd.Series(k_range).loc[(np.argmin(error))]\n",
    "error_chebyshev_w=min(error)\n",
    "print (\"Error : \",error_chebyshev_w)\n",
    "print (\"k* : \",k_star)"
   ]
  },
  {
   "cell_type": "markdown",
   "metadata": {},
   "source": [
    "# (e) Lowest training error rate calculation"
   ]
  },
  {
   "cell_type": "code",
   "execution_count": 52,
   "metadata": {},
   "outputs": [
    {
     "name": "stdout",
     "output_type": "stream",
     "text": [
      "Best training error rate for data is achieved for Euclidian distance with error :  0.0\n"
     ]
    }
   ],
   "source": [
    "print (\"Best training error rate for data is achieved for Euclidian distance with error : \",min(train_error))"
   ]
  }
 ],
 "metadata": {
  "kernelspec": {
   "display_name": "Python 3",
   "language": "python",
   "name": "python3"
  },
  "language_info": {
   "codemirror_mode": {
    "name": "ipython",
    "version": 3
   },
   "file_extension": ".py",
   "mimetype": "text/x-python",
   "name": "python",
   "nbconvert_exporter": "python",
   "pygments_lexer": "ipython3",
   "version": "3.8.5"
  }
 },
 "nbformat": 4,
 "nbformat_minor": 4
}
